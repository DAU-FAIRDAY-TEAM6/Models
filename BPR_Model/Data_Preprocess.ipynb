{
 "cells": [
  {
   "cell_type": "code",
   "execution_count": 2,
   "id": "21166128-d366-4bb6-8b2a-c910d7ce9952",
   "metadata": {},
   "outputs": [],
   "source": [
    "import json\n",
    "import csv\n",
    "import os\n",
    "import pandas as pd\n",
    "import numpy as np\n",
    "import random\n",
    "import copy\n",
    "from datetime import datetime"
   ]
  },
  {
   "cell_type": "code",
   "execution_count": 3,
   "id": "a552bb2b",
   "metadata": {},
   "outputs": [
    {
     "name": "stdout",
     "output_type": "stream",
     "text": [
      "checkin_data 생성 완료.\n"
     ]
    }
   ],
   "source": [
    "# JSON 파일 경로\n",
    "json_file_path = 'C:\\\\Users\\\\Administrator\\\\Downloads\\\\University\\\\Graduation project\\\\Dataset\\\\yelp_academic_dataset_review.json'\n",
    "\n",
    "# CSV 파일 경로\n",
    "csv_file_path = 'checkin.csv'\n",
    "\n",
    "# CSV 파일을 쓰기 모드로 열기\n",
    "with open(csv_file_path, 'w', newline='') as csv_file:\n",
    "    # CSV 라이터 생성\n",
    "    csv_writer = csv.writer(csv_file)\n",
    "\n",
    "    # CSV 파일 헤더 작성\n",
    "    csv_writer.writerow(['user_id', 'business_id'])\n",
    "\n",
    "    # JSON 파일을 한 줄씩 읽어서 처리\n",
    "    with open(json_file_path, 'r', encoding='utf-8') as json_file:\n",
    "        for line in json_file:\n",
    "            data = json.loads(line)  # JSON 데이터 파싱\n",
    "            # user_id와 business_id 추출\n",
    "            user_id = data['user_id']\n",
    "            business_id = data['business_id']\n",
    "\n",
    "            # CSV 파일에 데이터 작성\n",
    "            csv_writer.writerow([user_id, business_id])\n",
    "\n",
    "print(\"checkin_data 생성 완료.\")"
   ]
  },
  {
   "cell_type": "code",
   "execution_count": 4,
   "id": "902b7371",
   "metadata": {},
   "outputs": [
    {
     "name": "stdout",
     "output_type": "stream",
     "text": [
      "[[156830, '---kPU91CF4Lq2-WlRu9Lw'], [209756, '---kPU91CF4Lq2-WlRu9Lw'], [213557, '---kPU91CF4Lq2-WlRu9Lw']]\n",
      "[[156830, 0], [209756, 0], [213557, 0]]\n",
      "[[0, 100781], [1, 3783], [1, 5256]]\n",
      "CSV 파일이 user_id를 기준으로 정렬되었고, 새로운 파일에 저장되었습니다.\n"
     ]
    }
   ],
   "source": [
    "# CSV 파일 경로\n",
    "input_file = 'checkin.csv'\n",
    "output_file = 'checkin_data_Yelp.txt'\n",
    "\n",
    "# CSV 파일을 읽고 데이터를 리스트로 저장\n",
    "data = []\n",
    "with open(input_file, 'r', newline='') as csv_file:\n",
    "    csv_reader = csv.reader(csv_file)\n",
    "    header = next(csv_reader)  # 헤더 행\n",
    "    #data.append(header)\n",
    "    for row in csv_reader:\n",
    "        data.append(row)\n",
    "\n",
    "# user_id를 기준으로 데이터를 정렬\n",
    "data.sort(key=lambda x: x[0])  # 여기서 0은 user_id 열을 가리킵니다. 0부터 시작하면 첫 번째 열입니다.\n",
    "\n",
    "# user_id를 정수형으로 변환\n",
    "idx = 0\n",
    "before_user_id = data[0][0]\n",
    "for i in data:\n",
    "  if i[0] == before_user_id:\n",
    "    i[0] = idx\n",
    "  else:\n",
    "    idx += 1\n",
    "    before_user_id = i[0]\n",
    "    i[0] = idx\n",
    "\n",
    "# business_id 기준으로 데이터를 정렬\n",
    "data.sort(key=lambda x: x[1])  # 여기서 0은 user_id 열을 가리킵니다. 0부터 시작하면 첫 번째 열입니다.\n",
    "print(data[:3])\n",
    "\n",
    "# business_id 정수형으로 변환\n",
    "idx = 0\n",
    "before_business_id = data[0][1]\n",
    "for i in data:\n",
    "  if i[1] == before_business_id:\n",
    "    i[1] = idx\n",
    "  else:\n",
    "    idx += 1\n",
    "    before_business_id = i[1]\n",
    "    i[1] = idx\n",
    "\n",
    "print(data[:3])\n",
    "\n",
    "# 다시 유저 번호 기준으로 정렬\n",
    "data.sort(key=lambda x: x[0])\n",
    "print(data[:3])\n",
    "\n",
    "# 정렬된 데이터를 새로운 파일에 저장\n",
    "with open(output_file, 'w', newline='') as csv_file:\n",
    "    csv_writer = csv.writer(csv_file)\n",
    "    csv_writer.writerows(data)\n",
    "\n",
    "print(\"CSV 파일이 user_id를 기준으로 정렬되었고, 새로운 파일에 저장되었습니다.\")"
   ]
  },
  {
   "cell_type": "code",
   "execution_count": 5,
   "id": "1c1e295b",
   "metadata": {},
   "outputs": [
    {
     "name": "stdout",
     "output_type": "stream",
     "text": [
      "              ID   Value\n",
      "0              0  100781\n",
      "1              1    3783\n",
      "2              1    5256\n",
      "3              1    5256\n",
      "4              1    5256\n",
      "...          ...     ...\n",
      "6990275  1987924  127628\n",
      "6990276  1987925   53722\n",
      "6990277  1987926   82071\n",
      "6990278  1987927   10154\n",
      "6990279  1987928  144858\n",
      "\n",
      "[6990280 rows x 2 columns]\n"
     ]
    }
   ],
   "source": [
    "# 파일로부터 데이터를 읽기\n",
    "df = pd.read_csv('checkin_data_Yelp.txt', header=None, names=['ID', 'Value'])\n",
    "\n",
    "# 고유한 ID를 정렬된 리스트로 추출합니다.\n",
    "unique_ids = sorted(df['ID'].unique())\n",
    "\n",
    "# 고유 ID에 대해 0부터 시작하는 새로운 인덱스를 매핑합니다.\n",
    "id_mapping = {id: index for index, id in enumerate(unique_ids)}\n",
    "\n",
    "# 이 매핑을 사용하여 모든 ID 값을 업데이트합니다.\n",
    "df['ID'] = df['ID'].map(id_mapping)\n",
    "\n",
    "# 결과 확인\n",
    "print(df)\n",
    "\n",
    "# 결과를 파일로 저장할 수 있습니다.\n",
    "df.to_csv('reindexed_data.txt', index=False, header=False)\n"
   ]
  },
  {
   "cell_type": "code",
   "execution_count": 6,
   "id": "47d65ed0",
   "metadata": {},
   "outputs": [
    {
     "name": "stdout",
     "output_type": "stream",
     "text": [
      "              ID   Value\n",
      "0              0  100781\n",
      "1              1    3783\n",
      "2              1    5256\n",
      "3              1    5256\n",
      "4              1    5256\n",
      "...          ...     ...\n",
      "6990275  1987924  127628\n",
      "6990276  1987925   53722\n",
      "6990277  1987926   82071\n",
      "6990278  1987927   10154\n",
      "6990279  1987928  144858\n",
      "\n",
      "[6990280 rows x 2 columns]\n"
     ]
    }
   ],
   "source": [
    "# 파일로부터 데이터를 읽기\n",
    "df = pd.read_csv('reindexed_data.txt', header=None, names=['ID', 'Value'])\n",
    "\n",
    "# 고유한 ID를 정렬된 리스트로 추출합니다.\n",
    "unique_ids = sorted(df['Value'].unique())\n",
    "\n",
    "# 고유 ID에 대해 0부터 시작하는 새로운 인덱스를 매핑합니다.\n",
    "id_mapping = {id: index for index, id in enumerate(unique_ids)}\n",
    "\n",
    "# 이 매핑을 사용하여 모든 ID 값을 업데이트합니다.\n",
    "df['Value'] = df['Value'].map(id_mapping)\n",
    "\n",
    "# 결과 확인\n",
    "print(df)\n",
    "\n",
    "# 결과를 파일로 저장할 수 있습니다.\n",
    "df.to_csv('pos.txt', index=False, header=False)\n"
   ]
  },
  {
   "cell_type": "code",
   "execution_count": 7,
   "id": "8e6442fd-6f12-47ee-915c-499af73c3356",
   "metadata": {},
   "outputs": [
    {
     "ename": "KeyboardInterrupt",
     "evalue": "",
     "output_type": "error",
     "traceback": [
      "\u001b[1;31m---------------------------------------------------------------------------\u001b[0m",
      "\u001b[1;31mKeyboardInterrupt\u001b[0m                         Traceback (most recent call last)",
      "Cell \u001b[1;32mIn[7], line 18\u001b[0m\n\u001b[0;32m     16\u001b[0m not_owned_items \u001b[38;5;241m=\u001b[39m \u001b[38;5;28mlist\u001b[39m(all_items \u001b[38;5;241m-\u001b[39m items)\n\u001b[0;32m     17\u001b[0m \u001b[38;5;28;01mif\u001b[39;00m \u001b[38;5;28mlen\u001b[39m(not_owned_items) \u001b[38;5;241m>\u001b[39m neg_num:\n\u001b[1;32m---> 18\u001b[0m     selected_items \u001b[38;5;241m=\u001b[39m \u001b[43mnp\u001b[49m\u001b[38;5;241;43m.\u001b[39;49m\u001b[43mrandom\u001b[49m\u001b[38;5;241;43m.\u001b[39;49m\u001b[43mchoice\u001b[49m\u001b[43m(\u001b[49m\u001b[43mnot_owned_items\u001b[49m\u001b[43m,\u001b[49m\u001b[43m \u001b[49m\u001b[43mneg_num\u001b[49m\u001b[43m,\u001b[49m\u001b[43m \u001b[49m\u001b[43mreplace\u001b[49m\u001b[38;5;241;43m=\u001b[39;49m\u001b[38;5;28;43;01mFalse\u001b[39;49;00m\u001b[43m)\u001b[49m\n\u001b[0;32m     19\u001b[0m \u001b[38;5;28;01melse\u001b[39;00m:\n\u001b[0;32m     20\u001b[0m     selected_items \u001b[38;5;241m=\u001b[39m not_owned_items\n",
      "\u001b[1;31mKeyboardInterrupt\u001b[0m: "
     ]
    }
   ],
   "source": [
    "# 데이터 파일 로드\n",
    "df = pd.read_csv('pos.txt', header=None, names=['user', 'item'])\n",
    "\n",
    "# 각 사용자가 가진 아이템의 집합을 만듭니다.\n",
    "user_items = df.groupby('user')['item'].apply(set)\n",
    "\n",
    "# 전체 아이템 집합\n",
    "all_items = set(df['item'])\n",
    "\n",
    "# 유저 리뷰 개수\n",
    "neg_num = 100\n",
    "\n",
    "# 각 사용자별로 가지고 있지 않은 아이템을 찾아 랜덤하게 100개 선택\n",
    "results = {}\n",
    "for user, items in user_items.items():\n",
    "    not_owned_items = list(all_items - items)\n",
    "    if len(not_owned_items) > neg_num:\n",
    "        selected_items = np.random.choice(not_owned_items, neg_num, replace=False)\n",
    "    else:\n",
    "        selected_items = not_owned_items\n",
    "    results[user] = selected_items\n",
    "\n",
    "# 결과를 파일로 저장, 사용자 ID 없이 아이템만 저장\n",
    "with open('neg.txt', 'w') as file:\n",
    "    for items in results.values():\n",
    "        items_str = ','.join(map(str, items))\n",
    "        \n",
    "        file.write(f\"{items_str}\\n\")"
   ]
  }
 ],
 "metadata": {
  "kernelspec": {
   "display_name": "Python 3 (ipykernel)",
   "language": "python",
   "name": "python3"
  },
  "language_info": {
   "codemirror_mode": {
    "name": "ipython",
    "version": 3
   },
   "file_extension": ".py",
   "mimetype": "text/x-python",
   "name": "python",
   "nbconvert_exporter": "python",
   "pygments_lexer": "ipython3",
   "version": "3.12.2"
  }
 },
 "nbformat": 4,
 "nbformat_minor": 5
}
