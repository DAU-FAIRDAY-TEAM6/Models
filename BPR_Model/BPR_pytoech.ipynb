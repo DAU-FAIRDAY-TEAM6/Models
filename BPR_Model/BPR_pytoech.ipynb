{
 "cells": [
  {
   "cell_type": "code",
   "execution_count": 1,
   "metadata": {
    "colab": {
     "base_uri": "https://localhost:8080/"
    },
    "id": "NvL_7dzpMwac",
    "outputId": "c8fd148f-31fd-40ee-f554-4e8cfbeec340"
   },
   "outputs": [
    {
     "name": "stdout",
     "output_type": "stream",
     "text": [
      "Collecting scikit-learn\n",
      "  Downloading scikit_learn-1.4.1.post1-cp312-cp312-win_amd64.whl.metadata (11 kB)\n",
      "Requirement already satisfied: numpy<2.0,>=1.19.5 in c:\\users\\administrator\\myenv\\lib\\site-packages (from scikit-learn) (1.26.4)\n",
      "Collecting scipy>=1.6.0 (from scikit-learn)\n",
      "  Downloading scipy-1.12.0-cp312-cp312-win_amd64.whl.metadata (60 kB)\n",
      "     ---------------------------------------- 0.0/60.4 kB ? eta -:--:--\n",
      "     --------------------------------- ------ 51.2/60.4 kB 2.7 MB/s eta 0:00:01\n",
      "     ---------------------------------------- 60.4/60.4 kB 1.6 MB/s eta 0:00:00\n",
      "Collecting joblib>=1.2.0 (from scikit-learn)\n",
      "  Using cached joblib-1.3.2-py3-none-any.whl.metadata (5.4 kB)\n",
      "Collecting threadpoolctl>=2.0.0 (from scikit-learn)\n",
      "  Using cached threadpoolctl-3.3.0-py3-none-any.whl.metadata (13 kB)\n",
      "Downloading scikit_learn-1.4.1.post1-cp312-cp312-win_amd64.whl (10.6 MB)\n",
      "   ---------------------------------------- 0.0/10.6 MB ? eta -:--:--\n",
      "   - -------------------------------------- 0.3/10.6 MB 10.2 MB/s eta 0:00:02\n",
      "   -- ------------------------------------- 0.6/10.6 MB 8.1 MB/s eta 0:00:02\n",
      "   --- ------------------------------------ 0.8/10.6 MB 6.4 MB/s eta 0:00:02\n",
      "   --- ------------------------------------ 1.0/10.6 MB 6.4 MB/s eta 0:00:02\n",
      "   ---- ----------------------------------- 1.1/10.6 MB 5.2 MB/s eta 0:00:02\n",
      "   ----- ---------------------------------- 1.4/10.6 MB 5.4 MB/s eta 0:00:02\n",
      "   ----- ---------------------------------- 1.5/10.6 MB 5.7 MB/s eta 0:00:02\n",
      "   ------- -------------------------------- 1.9/10.6 MB 5.3 MB/s eta 0:00:02\n",
      "   ------- -------------------------------- 2.0/10.6 MB 5.3 MB/s eta 0:00:02\n",
      "   --------- ------------------------------ 2.4/10.6 MB 5.3 MB/s eta 0:00:02\n",
      "   --------- ------------------------------ 2.6/10.6 MB 5.3 MB/s eta 0:00:02\n",
      "   ---------- ----------------------------- 2.9/10.6 MB 5.2 MB/s eta 0:00:02\n",
      "   ------------ --------------------------- 3.3/10.6 MB 5.6 MB/s eta 0:00:02\n",
      "   -------------- ------------------------- 3.8/10.6 MB 5.8 MB/s eta 0:00:02\n",
      "   --------------- ------------------------ 4.2/10.6 MB 6.1 MB/s eta 0:00:02\n",
      "   ----------------- ---------------------- 4.7/10.6 MB 6.4 MB/s eta 0:00:01\n",
      "   ------------------- -------------------- 5.2/10.6 MB 6.6 MB/s eta 0:00:01\n",
      "   --------------------- ------------------ 5.7/10.6 MB 6.9 MB/s eta 0:00:01\n",
      "   ---------------------- ----------------- 5.9/10.6 MB 6.9 MB/s eta 0:00:01\n",
      "   ----------------------- ---------------- 6.3/10.6 MB 6.9 MB/s eta 0:00:01\n",
      "   ------------------------- -------------- 6.9/10.6 MB 7.1 MB/s eta 0:00:01\n",
      "   --------------------------- ------------ 7.4/10.6 MB 7.2 MB/s eta 0:00:01\n",
      "   ----------------------------- ---------- 7.9/10.6 MB 7.4 MB/s eta 0:00:01\n",
      "   ------------------------------- -------- 8.4/10.6 MB 7.6 MB/s eta 0:00:01\n",
      "   --------------------------------- ------ 8.9/10.6 MB 7.7 MB/s eta 0:00:01\n",
      "   ----------------------------------- ---- 9.5/10.6 MB 7.9 MB/s eta 0:00:01\n",
      "   ------------------------------------- -- 10.0/10.6 MB 8.0 MB/s eta 0:00:01\n",
      "   ---------------------------------------  10.5/10.6 MB 8.1 MB/s eta 0:00:01\n",
      "   ---------------------------------------  10.6/10.6 MB 8.1 MB/s eta 0:00:01\n",
      "   ---------------------------------------- 10.6/10.6 MB 7.8 MB/s eta 0:00:00\n",
      "Using cached joblib-1.3.2-py3-none-any.whl (302 kB)\n",
      "Downloading scipy-1.12.0-cp312-cp312-win_amd64.whl (45.8 MB)\n",
      "   ---------------------------------------- 0.0/45.8 MB ? eta -:--:--\n",
      "   ---------------------------------------- 0.6/45.8 MB 17.8 MB/s eta 0:00:03\n",
      "    --------------------------------------- 1.1/45.8 MB 14.0 MB/s eta 0:00:04\n",
      "   - -------------------------------------- 1.6/45.8 MB 12.9 MB/s eta 0:00:04\n",
      "   - -------------------------------------- 2.2/45.8 MB 12.6 MB/s eta 0:00:04\n",
      "   -- ------------------------------------- 2.7/45.8 MB 12.4 MB/s eta 0:00:04\n",
      "   -- ------------------------------------- 3.2/45.8 MB 12.1 MB/s eta 0:00:04\n",
      "   --- ------------------------------------ 3.7/45.8 MB 11.9 MB/s eta 0:00:04\n",
      "   --- ------------------------------------ 4.3/45.8 MB 11.9 MB/s eta 0:00:04\n",
      "   ---- ----------------------------------- 4.8/45.8 MB 11.9 MB/s eta 0:00:04\n",
      "   ---- ----------------------------------- 5.4/45.8 MB 11.8 MB/s eta 0:00:04\n",
      "   ----- ---------------------------------- 5.9/45.8 MB 11.8 MB/s eta 0:00:04\n",
      "   ----- ---------------------------------- 6.4/45.8 MB 11.8 MB/s eta 0:00:04\n",
      "   ------ --------------------------------- 7.0/45.8 MB 11.7 MB/s eta 0:00:04\n",
      "   ------ --------------------------------- 7.5/45.8 MB 11.7 MB/s eta 0:00:04\n",
      "   ------- -------------------------------- 8.0/45.8 MB 11.7 MB/s eta 0:00:04\n",
      "   ------- -------------------------------- 8.6/45.8 MB 11.7 MB/s eta 0:00:04\n",
      "   ------- -------------------------------- 9.1/45.8 MB 11.7 MB/s eta 0:00:04\n",
      "   -------- ------------------------------- 9.7/45.8 MB 11.7 MB/s eta 0:00:04\n",
      "   -------- ------------------------------- 10.2/45.8 MB 11.6 MB/s eta 0:00:04\n",
      "   --------- ------------------------------ 10.7/45.8 MB 11.5 MB/s eta 0:00:04\n",
      "   --------- ------------------------------ 11.3/45.8 MB 11.5 MB/s eta 0:00:04\n",
      "   ---------- ----------------------------- 11.8/45.8 MB 11.5 MB/s eta 0:00:03\n",
      "   ---------- ----------------------------- 12.3/45.8 MB 11.5 MB/s eta 0:00:03\n",
      "   ----------- ---------------------------- 12.9/45.8 MB 11.5 MB/s eta 0:00:03\n",
      "   ----------- ---------------------------- 13.4/45.8 MB 11.5 MB/s eta 0:00:03\n",
      "   ------------ --------------------------- 13.9/45.8 MB 11.5 MB/s eta 0:00:03\n",
      "   ------------ --------------------------- 14.4/45.8 MB 11.5 MB/s eta 0:00:03\n",
      "   ------------- -------------------------- 15.0/45.8 MB 11.5 MB/s eta 0:00:03\n",
      "   ------------- -------------------------- 15.5/45.8 MB 11.5 MB/s eta 0:00:03\n",
      "   ------------- -------------------------- 16.0/45.8 MB 11.5 MB/s eta 0:00:03\n",
      "   -------------- ------------------------- 16.6/45.8 MB 11.5 MB/s eta 0:00:03\n",
      "   -------------- ------------------------- 17.1/45.8 MB 11.3 MB/s eta 0:00:03\n",
      "   --------------- ------------------------ 17.6/45.8 MB 11.3 MB/s eta 0:00:03\n",
      "   --------------- ------------------------ 18.2/45.8 MB 11.5 MB/s eta 0:00:03\n",
      "   ---------------- ----------------------- 18.7/45.8 MB 11.3 MB/s eta 0:00:03\n",
      "   ---------------- ----------------------- 19.2/45.8 MB 11.3 MB/s eta 0:00:03\n",
      "   ----------------- ---------------------- 19.7/45.8 MB 11.5 MB/s eta 0:00:03\n",
      "   ----------------- ---------------------- 20.3/45.8 MB 11.3 MB/s eta 0:00:03\n",
      "   ------------------ --------------------- 20.8/45.8 MB 11.5 MB/s eta 0:00:03\n",
      "   ------------------ --------------------- 21.3/45.8 MB 11.5 MB/s eta 0:00:03\n",
      "   ------------------- -------------------- 21.8/45.8 MB 11.5 MB/s eta 0:00:03\n",
      "   ------------------- -------------------- 22.4/45.8 MB 11.5 MB/s eta 0:00:03\n",
      "   -------------------- ------------------- 22.9/45.8 MB 11.5 MB/s eta 0:00:02\n",
      "   -------------------- ------------------- 23.5/45.8 MB 11.5 MB/s eta 0:00:02\n",
      "   -------------------- ------------------- 24.0/45.8 MB 11.5 MB/s eta 0:00:02\n",
      "   --------------------- ------------------ 24.5/45.8 MB 11.5 MB/s eta 0:00:02\n",
      "   --------------------- ------------------ 25.1/45.8 MB 11.5 MB/s eta 0:00:02\n",
      "   ---------------------- ----------------- 25.6/45.8 MB 11.5 MB/s eta 0:00:02\n",
      "   ---------------------- ----------------- 26.2/45.8 MB 11.5 MB/s eta 0:00:02\n",
      "   ----------------------- ---------------- 26.7/45.8 MB 11.5 MB/s eta 0:00:02\n",
      "   ----------------------- ---------------- 27.2/45.8 MB 11.5 MB/s eta 0:00:02\n",
      "   ------------------------ --------------- 27.7/45.8 MB 11.5 MB/s eta 0:00:02\n",
      "   ------------------------ --------------- 28.3/45.8 MB 11.5 MB/s eta 0:00:02\n",
      "   ------------------------- -------------- 28.8/45.8 MB 11.5 MB/s eta 0:00:02\n",
      "   ------------------------- -------------- 29.3/45.8 MB 11.5 MB/s eta 0:00:02\n",
      "   -------------------------- ------------- 29.9/45.8 MB 11.5 MB/s eta 0:00:02\n",
      "   -------------------------- ------------- 30.4/45.8 MB 11.5 MB/s eta 0:00:02\n",
      "   --------------------------- ------------ 31.0/45.8 MB 11.5 MB/s eta 0:00:02\n",
      "   --------------------------- ------------ 31.5/45.8 MB 11.5 MB/s eta 0:00:02\n",
      "   --------------------------- ------------ 32.0/45.8 MB 11.5 MB/s eta 0:00:02\n",
      "   ---------------------------- ----------- 32.5/45.8 MB 11.5 MB/s eta 0:00:02\n",
      "   ---------------------------- ----------- 33.1/45.8 MB 11.5 MB/s eta 0:00:02\n",
      "   ----------------------------- ---------- 33.6/45.8 MB 11.5 MB/s eta 0:00:02\n",
      "   ----------------------------- ---------- 34.1/45.8 MB 11.5 MB/s eta 0:00:02\n",
      "   ------------------------------ --------- 34.7/45.8 MB 11.5 MB/s eta 0:00:01\n",
      "   ------------------------------ --------- 35.2/45.8 MB 11.5 MB/s eta 0:00:01\n",
      "   ------------------------------- -------- 35.7/45.8 MB 11.5 MB/s eta 0:00:01\n",
      "   ------------------------------- -------- 36.2/45.8 MB 11.5 MB/s eta 0:00:01\n",
      "   -------------------------------- ------- 36.8/45.8 MB 11.5 MB/s eta 0:00:01\n",
      "   -------------------------------- ------- 37.3/45.8 MB 11.5 MB/s eta 0:00:01\n",
      "   --------------------------------- ------ 37.8/45.8 MB 11.5 MB/s eta 0:00:01\n",
      "   --------------------------------- ------ 38.4/45.8 MB 11.3 MB/s eta 0:00:01\n",
      "   --------------------------------- ------ 38.9/45.8 MB 11.3 MB/s eta 0:00:01\n",
      "   ---------------------------------- ----- 39.4/45.8 MB 11.5 MB/s eta 0:00:01\n",
      "   ---------------------------------- ----- 40.0/45.8 MB 11.5 MB/s eta 0:00:01\n",
      "   ----------------------------------- ---- 40.5/45.8 MB 11.5 MB/s eta 0:00:01\n",
      "   ----------------------------------- ---- 41.0/45.8 MB 11.5 MB/s eta 0:00:01\n",
      "   ------------------------------------ --- 41.6/45.8 MB 11.5 MB/s eta 0:00:01\n",
      "   ------------------------------------ --- 42.1/45.8 MB 11.5 MB/s eta 0:00:01\n",
      "   ------------------------------------- -- 42.6/45.8 MB 11.5 MB/s eta 0:00:01\n",
      "   ------------------------------------- -- 43.2/45.8 MB 11.5 MB/s eta 0:00:01\n",
      "   -------------------------------------- - 43.7/45.8 MB 11.5 MB/s eta 0:00:01\n",
      "   -------------------------------------- - 44.2/45.8 MB 11.5 MB/s eta 0:00:01\n",
      "   ---------------------------------------  44.8/45.8 MB 11.5 MB/s eta 0:00:01\n",
      "   ---------------------------------------  45.3/45.8 MB 11.5 MB/s eta 0:00:01\n",
      "   ---------------------------------------  45.8/45.8 MB 11.5 MB/s eta 0:00:01\n",
      "   ---------------------------------------  45.8/45.8 MB 11.5 MB/s eta 0:00:01\n",
      "   ---------------------------------------  45.8/45.8 MB 11.5 MB/s eta 0:00:01\n",
      "   ---------------------------------------  45.8/45.8 MB 11.5 MB/s eta 0:00:01\n",
      "   ---------------------------------------- 45.8/45.8 MB 9.9 MB/s eta 0:00:00\n",
      "Using cached threadpoolctl-3.3.0-py3-none-any.whl (17 kB)\n",
      "Installing collected packages: threadpoolctl, scipy, joblib, scikit-learn\n",
      "Successfully installed joblib-1.3.2 scikit-learn-1.4.1.post1 scipy-1.12.0 threadpoolctl-3.3.0\n"
     ]
    }
   ],
   "source": [
    "!pip install scikit-learn"
   ]
  },
  {
   "cell_type": "code",
   "execution_count": 2,
   "metadata": {
    "id": "qD71y_uNM2Xt"
   },
   "outputs": [],
   "source": [
    "import numpy as np\n",
    "import pandas as pd\n",
    "from os import path\n",
    "from collections import OrderedDict\n",
    "from tqdm import tqdm\n",
    "\n",
    "import torch\n",
    "import torch.nn as nn\n",
    "import torch.optim as optim\n",
    "\n",
    "from sklearn.metrics import roc_auc_score"
   ]
  },
  {
   "cell_type": "code",
   "execution_count": 3,
   "metadata": {
    "id": "7DexZTcVU00W"
   },
   "outputs": [
    {
     "name": "stdout",
     "output_type": "stream",
     "text": [
      "Device: cuda\n"
     ]
    }
   ],
   "source": [
    "# CUDA 사용 가능 여부 확인\n",
    "device = torch.device(\"cuda\" if torch.cuda.is_available() else \"cpu\")\n",
    "print(\"Device:\", device)"
   ]
  },
  {
   "cell_type": "code",
   "execution_count": 4,
   "metadata": {
    "id": "OV6ulgWbM2gR"
   },
   "outputs": [
    {
     "data": {
      "text/plain": [
       "<torch._C.Generator at 0x29128135590>"
      ]
     },
     "execution_count": 4,
     "metadata": {},
     "output_type": "execute_result"
    }
   ],
   "source": [
    "SEED = 42\n",
    "np.random.seed(SEED)\n",
    "torch.manual_seed(SEED)"
   ]
  },
  {
   "cell_type": "code",
   "execution_count": 5,
   "metadata": {
    "id": "_Zmhma5XM2lX"
   },
   "outputs": [],
   "source": [
    "DIR_DATA = 'data'\n",
    "DIR_MODEL = 'models'"
   ]
  },
  {
   "cell_type": "markdown",
   "metadata": {
    "id": "tg90Z-YBNSIv"
   },
   "source": [
    "### Get data"
   ]
  },
  {
   "cell_type": "code",
   "execution_count": 6,
   "metadata": {
    "id": "BtKvWsfEM2oB"
   },
   "outputs": [
    {
     "data": {
      "text/html": [
       "<div>\n",
       "<style scoped>\n",
       "    .dataframe tbody tr th:only-of-type {\n",
       "        vertical-align: middle;\n",
       "    }\n",
       "\n",
       "    .dataframe tbody tr th {\n",
       "        vertical-align: top;\n",
       "    }\n",
       "\n",
       "    .dataframe thead th {\n",
       "        text-align: right;\n",
       "    }\n",
       "</style>\n",
       "<table border=\"1\" class=\"dataframe\">\n",
       "  <thead>\n",
       "    <tr style=\"text-align: right;\">\n",
       "      <th></th>\n",
       "      <th>user</th>\n",
       "      <th>business</th>\n",
       "      <th>rating</th>\n",
       "      <th>date</th>\n",
       "    </tr>\n",
       "  </thead>\n",
       "  <tbody>\n",
       "    <tr>\n",
       "      <th>0</th>\n",
       "      <td>0</td>\n",
       "      <td>1481</td>\n",
       "      <td>5</td>\n",
       "      <td>1479040537</td>\n",
       "    </tr>\n",
       "    <tr>\n",
       "      <th>1</th>\n",
       "      <td>0</td>\n",
       "      <td>8854</td>\n",
       "      <td>5</td>\n",
       "      <td>1398704639</td>\n",
       "    </tr>\n",
       "    <tr>\n",
       "      <th>2</th>\n",
       "      <td>1</td>\n",
       "      <td>7950</td>\n",
       "      <td>4</td>\n",
       "      <td>1301177737</td>\n",
       "    </tr>\n",
       "    <tr>\n",
       "      <th>3</th>\n",
       "      <td>1</td>\n",
       "      <td>12413</td>\n",
       "      <td>5</td>\n",
       "      <td>1301177343</td>\n",
       "    </tr>\n",
       "    <tr>\n",
       "      <th>4</th>\n",
       "      <td>2</td>\n",
       "      <td>7030</td>\n",
       "      <td>2</td>\n",
       "      <td>1497361148</td>\n",
       "    </tr>\n",
       "    <tr>\n",
       "      <th>5</th>\n",
       "      <td>3</td>\n",
       "      <td>1217</td>\n",
       "      <td>3</td>\n",
       "      <td>1338848137</td>\n",
       "    </tr>\n",
       "    <tr>\n",
       "      <th>6</th>\n",
       "      <td>3</td>\n",
       "      <td>1983</td>\n",
       "      <td>2</td>\n",
       "      <td>1337621193</td>\n",
       "    </tr>\n",
       "    <tr>\n",
       "      <th>7</th>\n",
       "      <td>3</td>\n",
       "      <td>3313</td>\n",
       "      <td>3</td>\n",
       "      <td>1339444620</td>\n",
       "    </tr>\n",
       "    <tr>\n",
       "      <th>8</th>\n",
       "      <td>3</td>\n",
       "      <td>4455</td>\n",
       "      <td>3</td>\n",
       "      <td>1337294136</td>\n",
       "    </tr>\n",
       "    <tr>\n",
       "      <th>9</th>\n",
       "      <td>3</td>\n",
       "      <td>5005</td>\n",
       "      <td>2</td>\n",
       "      <td>1340650648</td>\n",
       "    </tr>\n",
       "  </tbody>\n",
       "</table>\n",
       "</div>"
      ],
      "text/plain": [
       "   user  business  rating        date\n",
       "0     0      1481       5  1479040537\n",
       "1     0      8854       5  1398704639\n",
       "2     1      7950       4  1301177737\n",
       "3     1     12413       5  1301177343\n",
       "4     2      7030       2  1497361148\n",
       "5     3      1217       3  1338848137\n",
       "6     3      1983       2  1337621193\n",
       "7     3      3313       3  1339444620\n",
       "8     3      4455       3  1337294136\n",
       "9     3      5005       2  1340650648"
      ]
     },
     "execution_count": 6,
     "metadata": {},
     "output_type": "execute_result"
    }
   ],
   "source": [
    "# Load data\n",
    "df_full = pd.read_csv('data_int.csv')\n",
    "df_full.head(10)"
   ]
  },
  {
   "cell_type": "markdown",
   "metadata": {
    "id": "DSXFAP6zNZCN"
   },
   "source": [
    "### Build the references\n",
    "\n",
    "I'm planning to use the `Embedding` layer, so I need to link real ids of the users and movies to the order ones."
   ]
  },
  {
   "cell_type": "code",
   "execution_count": 7,
   "metadata": {
    "id": "zvaQ7UYANYmE"
   },
   "outputs": [
    {
     "data": {
      "text/plain": [
       "[14576, 14577, 14578, 14579, 14580, 14581, 14582, 14583, 14584, 14585]"
      ]
     },
     "execution_count": 7,
     "metadata": {},
     "output_type": "execute_result"
    }
   ],
   "source": [
    "sorted(df_full.business.unique())[-10:]"
   ]
  },
  {
   "cell_type": "code",
   "execution_count": 8,
   "metadata": {
    "id": "zVw_jzz_M2qh"
   },
   "outputs": [
    {
     "data": {
      "text/plain": [
       "[0, 1, 2, 3, 4, 5, 6, 7, 8, 9]"
      ]
     },
     "execution_count": 8,
     "metadata": {},
     "output_type": "execute_result"
    }
   ],
   "source": [
    "sorted(df_full.user.unique())[:10]"
   ]
  },
  {
   "cell_type": "code",
   "execution_count": 9,
   "metadata": {
    "id": "VlGkOG__NC4h"
   },
   "outputs": [],
   "source": [
    "unique_users = df_full.user.unique()\n",
    "user_ids = {u: i for i, u in enumerate(unique_users)}\n",
    "\n",
    "unique_businesses = df_full.business.unique()\n",
    "business_ids = {m: i for i, m in enumerate(unique_businesses)}"
   ]
  },
  {
   "cell_type": "code",
   "execution_count": 10,
   "metadata": {
    "id": "UGRt2PX1NC6u"
   },
   "outputs": [
    {
     "data": {
      "text/html": [
       "<div>\n",
       "<style scoped>\n",
       "    .dataframe tbody tr th:only-of-type {\n",
       "        vertical-align: middle;\n",
       "    }\n",
       "\n",
       "    .dataframe tbody tr th {\n",
       "        vertical-align: top;\n",
       "    }\n",
       "\n",
       "    .dataframe thead th {\n",
       "        text-align: right;\n",
       "    }\n",
       "</style>\n",
       "<table border=\"1\" class=\"dataframe\">\n",
       "  <thead>\n",
       "    <tr style=\"text-align: right;\">\n",
       "      <th></th>\n",
       "      <th>user</th>\n",
       "      <th>business</th>\n",
       "      <th>rating</th>\n",
       "      <th>date</th>\n",
       "      <th>user_id</th>\n",
       "      <th>business_id</th>\n",
       "    </tr>\n",
       "  </thead>\n",
       "  <tbody>\n",
       "    <tr>\n",
       "      <th>0</th>\n",
       "      <td>0</td>\n",
       "      <td>1481</td>\n",
       "      <td>5</td>\n",
       "      <td>1479040537</td>\n",
       "      <td>0</td>\n",
       "      <td>0</td>\n",
       "    </tr>\n",
       "    <tr>\n",
       "      <th>1</th>\n",
       "      <td>0</td>\n",
       "      <td>8854</td>\n",
       "      <td>5</td>\n",
       "      <td>1398704639</td>\n",
       "      <td>0</td>\n",
       "      <td>1</td>\n",
       "    </tr>\n",
       "    <tr>\n",
       "      <th>2</th>\n",
       "      <td>1</td>\n",
       "      <td>7950</td>\n",
       "      <td>4</td>\n",
       "      <td>1301177737</td>\n",
       "      <td>1</td>\n",
       "      <td>2</td>\n",
       "    </tr>\n",
       "    <tr>\n",
       "      <th>3</th>\n",
       "      <td>1</td>\n",
       "      <td>12413</td>\n",
       "      <td>5</td>\n",
       "      <td>1301177343</td>\n",
       "      <td>1</td>\n",
       "      <td>3</td>\n",
       "    </tr>\n",
       "    <tr>\n",
       "      <th>4</th>\n",
       "      <td>2</td>\n",
       "      <td>7030</td>\n",
       "      <td>2</td>\n",
       "      <td>1497361148</td>\n",
       "      <td>2</td>\n",
       "      <td>4</td>\n",
       "    </tr>\n",
       "    <tr>\n",
       "      <th>5</th>\n",
       "      <td>3</td>\n",
       "      <td>1217</td>\n",
       "      <td>3</td>\n",
       "      <td>1338848137</td>\n",
       "      <td>3</td>\n",
       "      <td>5</td>\n",
       "    </tr>\n",
       "    <tr>\n",
       "      <th>6</th>\n",
       "      <td>3</td>\n",
       "      <td>1983</td>\n",
       "      <td>2</td>\n",
       "      <td>1337621193</td>\n",
       "      <td>3</td>\n",
       "      <td>6</td>\n",
       "    </tr>\n",
       "    <tr>\n",
       "      <th>7</th>\n",
       "      <td>3</td>\n",
       "      <td>3313</td>\n",
       "      <td>3</td>\n",
       "      <td>1339444620</td>\n",
       "      <td>3</td>\n",
       "      <td>7</td>\n",
       "    </tr>\n",
       "    <tr>\n",
       "      <th>8</th>\n",
       "      <td>3</td>\n",
       "      <td>4455</td>\n",
       "      <td>3</td>\n",
       "      <td>1337294136</td>\n",
       "      <td>3</td>\n",
       "      <td>8</td>\n",
       "    </tr>\n",
       "    <tr>\n",
       "      <th>9</th>\n",
       "      <td>3</td>\n",
       "      <td>5005</td>\n",
       "      <td>2</td>\n",
       "      <td>1340650648</td>\n",
       "      <td>3</td>\n",
       "      <td>9</td>\n",
       "    </tr>\n",
       "  </tbody>\n",
       "</table>\n",
       "</div>"
      ],
      "text/plain": [
       "   user  business  rating        date  user_id  business_id\n",
       "0     0      1481       5  1479040537        0            0\n",
       "1     0      8854       5  1398704639        0            1\n",
       "2     1      7950       4  1301177737        1            2\n",
       "3     1     12413       5  1301177343        1            3\n",
       "4     2      7030       2  1497361148        2            4\n",
       "5     3      1217       3  1338848137        3            5\n",
       "6     3      1983       2  1337621193        3            6\n",
       "7     3      3313       3  1339444620        3            7\n",
       "8     3      4455       3  1337294136        3            8\n",
       "9     3      5005       2  1340650648        3            9"
      ]
     },
     "execution_count": 10,
     "metadata": {},
     "output_type": "execute_result"
    }
   ],
   "source": [
    "df_full['user_id'] = df_full.user.map(user_ids)\n",
    "df_full['business_id'] = df_full.business.map(business_ids)\n",
    "\n",
    "df_full.head(10)"
   ]
  },
  {
   "cell_type": "markdown",
   "metadata": {
    "id": "htW6EsCqNiE2"
   },
   "source": [
    "### Train/test split\n",
    "\n",
    "Here the main idea is to extract some movies for users who have a big amount of positive reviews into the test subtest. I extract 2 movies for each user who have more than 20 positive reviews. This test subset won't be used during training, but these movies should appear in the top recommendations for each user accordingly."
   ]
  },
  {
   "cell_type": "markdown",
   "metadata": {
    "id": "LSrvS64WNlEU"
   },
   "source": [
    "#### Test subset"
   ]
  },
  {
   "cell_type": "code",
   "execution_count": 11,
   "metadata": {
    "id": "HwsAPQfJNkwH"
   },
   "outputs": [
    {
     "data": {
      "text/plain": [
       "(175320, 2)"
      ]
     },
     "execution_count": 11,
     "metadata": {},
     "output_type": "execute_result"
    }
   ],
   "source": [
    "tmp_test = df_full[df_full.rating > 4]\n",
    "tmp_test = tmp_test.groupby('user').business.count().reset_index()\n",
    "tmp_test.shape"
   ]
  },
  {
   "cell_type": "code",
   "execution_count": 12,
   "metadata": {
    "id": "P-7DJNQaNC9I"
   },
   "outputs": [
    {
     "data": {
      "text/plain": [
       "(3374, 6)"
      ]
     },
     "execution_count": 12,
     "metadata": {},
     "output_type": "execute_result"
    }
   ],
   "source": [
    "conditions = (df_full.user.isin(tmp_test[tmp_test.business > 20].user)) & (df_full.rating > 4)\n",
    "df_test = df_full[conditions].groupby('user').head(2).reset_index()\n",
    "\n",
    "del df_test['index']\n",
    "df_test.shape"
   ]
  },
  {
   "cell_type": "code",
   "execution_count": 13,
   "metadata": {
    "id": "2AjmPNBMNC99"
   },
   "outputs": [
    {
     "data": {
      "text/html": [
       "<div>\n",
       "<style scoped>\n",
       "    .dataframe tbody tr th:only-of-type {\n",
       "        vertical-align: middle;\n",
       "    }\n",
       "\n",
       "    .dataframe tbody tr th {\n",
       "        vertical-align: top;\n",
       "    }\n",
       "\n",
       "    .dataframe thead th {\n",
       "        text-align: right;\n",
       "    }\n",
       "</style>\n",
       "<table border=\"1\" class=\"dataframe\">\n",
       "  <thead>\n",
       "    <tr style=\"text-align: right;\">\n",
       "      <th></th>\n",
       "      <th>user_id</th>\n",
       "      <th>business_id</th>\n",
       "    </tr>\n",
       "  </thead>\n",
       "  <tbody>\n",
       "    <tr>\n",
       "      <th>0</th>\n",
       "      <td>253</td>\n",
       "      <td>[498, 93]</td>\n",
       "    </tr>\n",
       "    <tr>\n",
       "      <th>1</th>\n",
       "      <td>1125</td>\n",
       "      <td>[1986, 1989]</td>\n",
       "    </tr>\n",
       "    <tr>\n",
       "      <th>2</th>\n",
       "      <td>1202</td>\n",
       "      <td>[2296, 2233]</td>\n",
       "    </tr>\n",
       "    <tr>\n",
       "      <th>3</th>\n",
       "      <td>1511</td>\n",
       "      <td>[483, 487]</td>\n",
       "    </tr>\n",
       "    <tr>\n",
       "      <th>4</th>\n",
       "      <td>1633</td>\n",
       "      <td>[1506, 1569]</td>\n",
       "    </tr>\n",
       "    <tr>\n",
       "      <th>5</th>\n",
       "      <td>1692</td>\n",
       "      <td>[964, 995]</td>\n",
       "    </tr>\n",
       "    <tr>\n",
       "      <th>6</th>\n",
       "      <td>1794</td>\n",
       "      <td>[500, 2883]</td>\n",
       "    </tr>\n",
       "    <tr>\n",
       "      <th>7</th>\n",
       "      <td>1957</td>\n",
       "      <td>[3186, 3187]</td>\n",
       "    </tr>\n",
       "    <tr>\n",
       "      <th>8</th>\n",
       "      <td>2170</td>\n",
       "      <td>[360, 292]</td>\n",
       "    </tr>\n",
       "    <tr>\n",
       "      <th>9</th>\n",
       "      <td>2185</td>\n",
       "      <td>[1453, 769]</td>\n",
       "    </tr>\n",
       "  </tbody>\n",
       "</table>\n",
       "</div>"
      ],
      "text/plain": [
       "   user_id   business_id\n",
       "0      253     [498, 93]\n",
       "1     1125  [1986, 1989]\n",
       "2     1202  [2296, 2233]\n",
       "3     1511    [483, 487]\n",
       "4     1633  [1506, 1569]\n",
       "5     1692    [964, 995]\n",
       "6     1794   [500, 2883]\n",
       "7     1957  [3186, 3187]\n",
       "8     2170    [360, 292]\n",
       "9     2185   [1453, 769]"
      ]
     },
     "execution_count": 13,
     "metadata": {},
     "output_type": "execute_result"
    }
   ],
   "source": [
    "ground_truth_test = df_test.groupby('user_id').business_id.agg(list).reset_index()\n",
    "ground_truth_test.head(10)"
   ]
  },
  {
   "cell_type": "markdown",
   "metadata": {
    "id": "QYdTxMiENvDT"
   },
   "source": [
    "#### Training subset"
   ]
  },
  {
   "cell_type": "code",
   "execution_count": 14,
   "metadata": {
    "id": "gM8KWr25NC_m"
   },
   "outputs": [
    {
     "data": {
      "text/plain": [
       "(964672, 6)"
      ]
     },
     "execution_count": 14,
     "metadata": {},
     "output_type": "execute_result"
    }
   ],
   "source": [
    "df_train = pd.concat([df_full, df_test]).drop_duplicates(keep=False)\n",
    "df_train.shape"
   ]
  },
  {
   "cell_type": "code",
   "execution_count": 15,
   "metadata": {
    "id": "ll81-ej_NDAr"
   },
   "outputs": [
    {
     "data": {
      "text/html": [
       "<div>\n",
       "<style scoped>\n",
       "    .dataframe tbody tr th:only-of-type {\n",
       "        vertical-align: middle;\n",
       "    }\n",
       "\n",
       "    .dataframe tbody tr th {\n",
       "        vertical-align: top;\n",
       "    }\n",
       "\n",
       "    .dataframe thead th {\n",
       "        text-align: right;\n",
       "    }\n",
       "</style>\n",
       "<table border=\"1\" class=\"dataframe\">\n",
       "  <thead>\n",
       "    <tr style=\"text-align: right;\">\n",
       "      <th></th>\n",
       "      <th>user_id</th>\n",
       "      <th>business_id</th>\n",
       "    </tr>\n",
       "  </thead>\n",
       "  <tbody>\n",
       "    <tr>\n",
       "      <th>0</th>\n",
       "      <td>0</td>\n",
       "      <td>[0, 1]</td>\n",
       "    </tr>\n",
       "    <tr>\n",
       "      <th>1</th>\n",
       "      <td>1</td>\n",
       "      <td>[2, 3]</td>\n",
       "    </tr>\n",
       "    <tr>\n",
       "      <th>2</th>\n",
       "      <td>3</td>\n",
       "      <td>[10, 12]</td>\n",
       "    </tr>\n",
       "    <tr>\n",
       "      <th>3</th>\n",
       "      <td>4</td>\n",
       "      <td>[13, 14, 15, 16, 17, 18, 19, 20, 21, 22, 23, 2...</td>\n",
       "    </tr>\n",
       "    <tr>\n",
       "      <th>4</th>\n",
       "      <td>5</td>\n",
       "      <td>[30, 30, 31, 33, 34, 35, 36, 38, 39, 40, 42, 4...</td>\n",
       "    </tr>\n",
       "    <tr>\n",
       "      <th>5</th>\n",
       "      <td>6</td>\n",
       "      <td>[47, 48]</td>\n",
       "    </tr>\n",
       "    <tr>\n",
       "      <th>6</th>\n",
       "      <td>7</td>\n",
       "      <td>[49, 50]</td>\n",
       "    </tr>\n",
       "    <tr>\n",
       "      <th>7</th>\n",
       "      <td>8</td>\n",
       "      <td>[51, 52, 53, 54, 55]</td>\n",
       "    </tr>\n",
       "    <tr>\n",
       "      <th>8</th>\n",
       "      <td>9</td>\n",
       "      <td>[56]</td>\n",
       "    </tr>\n",
       "    <tr>\n",
       "      <th>9</th>\n",
       "      <td>10</td>\n",
       "      <td>[57, 58]</td>\n",
       "    </tr>\n",
       "  </tbody>\n",
       "</table>\n",
       "</div>"
      ],
      "text/plain": [
       "   user_id                                        business_id\n",
       "0        0                                             [0, 1]\n",
       "1        1                                             [2, 3]\n",
       "2        3                                           [10, 12]\n",
       "3        4  [13, 14, 15, 16, 17, 18, 19, 20, 21, 22, 23, 2...\n",
       "4        5  [30, 30, 31, 33, 34, 35, 36, 38, 39, 40, 42, 4...\n",
       "5        6                                           [47, 48]\n",
       "6        7                                           [49, 50]\n",
       "7        8                               [51, 52, 53, 54, 55]\n",
       "8        9                                               [56]\n",
       "9       10                                           [57, 58]"
      ]
     },
     "execution_count": 15,
     "metadata": {},
     "output_type": "execute_result"
    }
   ],
   "source": [
    "ground_truth_train = df_train[df_train.rating > 3].groupby('user_id').business_id.agg(list).reset_index()\n",
    "ground_truth_train.head(10)"
   ]
  },
  {
   "cell_type": "markdown",
   "metadata": {
    "id": "2D7gtc5BN8yE"
   },
   "source": [
    "### Building triplets\n",
    "\n",
    "Bayers Personalized Ranking requires for the training a triplet of the user, positive item and negative item. For each user, I create a pair of each positive ranked movie (the rank is higher than 3) with all negative movies (the rank is equal  3 and lower than)."
   ]
  },
  {
   "cell_type": "code",
   "execution_count": 16,
   "metadata": {
    "id": "l_hHMCu7N0cW"
   },
   "outputs": [
    {
     "data": {
      "text/html": [
       "<div>\n",
       "<style scoped>\n",
       "    .dataframe tbody tr th:only-of-type {\n",
       "        vertical-align: middle;\n",
       "    }\n",
       "\n",
       "    .dataframe tbody tr th {\n",
       "        vertical-align: top;\n",
       "    }\n",
       "\n",
       "    .dataframe thead th {\n",
       "        text-align: right;\n",
       "    }\n",
       "</style>\n",
       "<table border=\"1\" class=\"dataframe\">\n",
       "  <thead>\n",
       "    <tr style=\"text-align: right;\">\n",
       "      <th></th>\n",
       "      <th>user_id</th>\n",
       "      <th>positive_m_id</th>\n",
       "      <th>negative_m_id</th>\n",
       "    </tr>\n",
       "  </thead>\n",
       "  <tbody>\n",
       "  </tbody>\n",
       "</table>\n",
       "</div>"
      ],
      "text/plain": [
       "Empty DataFrame\n",
       "Columns: [user_id, positive_m_id, negative_m_id]\n",
       "Index: []"
      ]
     },
     "execution_count": 16,
     "metadata": {},
     "output_type": "execute_result"
    }
   ],
   "source": [
    "df_triplets = pd.DataFrame(columns=['user_id', 'positive_m_id', 'negative_m_id'])\n",
    "\n",
    "df_triplets"
   ]
  },
  {
   "cell_type": "code",
   "execution_count": null,
   "metadata": {
    "id": "1KAsyB8qN02K"
   },
   "outputs": [
    {
     "name": "stderr",
     "output_type": "stream",
     "text": [
      " 37%|███████████████████████████▎                                             | 104676/279997 [04:06<07:03, 413.54it/s]"
     ]
    }
   ],
   "source": [
    "data = []\n",
    "\n",
    "for user_id in tqdm(df_train.user_id.unique()):\n",
    "    positive_businesses = df_train[(df_train.user_id == user_id) & (df_train.rating > 3)].business_id.values\n",
    "    negative_businesses = df_train[(df_train.user_id == user_id) & (df_train.rating <= 3)].business_id.values\n",
    "\n",
    "    if negative_businesses.shape[0] == 0 or positive_businesses.shape[0] == 0:\n",
    "        continue\n",
    "\n",
    "    for positive_business in positive_businesses:\n",
    "        for negative_business in negative_businesses:\n",
    "            data.append({'user_id': user_id, 'positive_m_id': positive_business, 'negative_m_id': negative_business})\n",
    "\n",
    "df_triplets = df_triplets.append(data, ignore_index=True)"
   ]
  },
  {
   "cell_type": "code",
   "execution_count": null,
   "metadata": {
    "id": "CCnEZCLzN03n"
   },
   "outputs": [],
   "source": [
    "df_triplets.shape, df_train.shape"
   ]
  },
  {
   "cell_type": "markdown",
   "metadata": {
    "id": "VO1iOOkmOXxO"
   },
   "source": [
    "### BPR NN"
   ]
  },
  {
   "cell_type": "code",
   "execution_count": null,
   "metadata": {
    "id": "RQwtvneaN05R"
   },
   "outputs": [],
   "source": [
    "num_users = len(unique_users)\n",
    "num_items = len(unique_businesses)"
   ]
  },
  {
   "cell_type": "markdown",
   "metadata": {
    "id": "sD26CLdhOZTq"
   },
   "source": [
    "### Build a model"
   ]
  },
  {
   "cell_type": "code",
   "execution_count": null,
   "metadata": {
    "id": "8a9dT8VUN077"
   },
   "outputs": [],
   "source": [
    "class BPR(nn.Module):\n",
    "    def __init__(self, num_users, num_items, latent_dim):\n",
    "        super(BPR, self).__init__()\n",
    "        self.user_embedding = nn.Embedding(num_users, latent_dim)\n",
    "        self.item_embedding = nn.Embedding(num_items, latent_dim)\n",
    "\n",
    "    def forward(self, user_input, positive_item_input, negative_item_input):\n",
    "        user_embedding = self.user_embedding(user_input)\n",
    "        positive_item_embedding = self.item_embedding(positive_item_input)\n",
    "        negative_item_embedding = self.item_embedding(negative_item_input)\n",
    "\n",
    "        positive_interactions = torch.sum(user_embedding * positive_item_embedding, dim=1)\n",
    "        negative_interactions = torch.sum(user_embedding * negative_item_embedding, dim=1)\n",
    "\n",
    "        return torch.sigmoid(positive_interactions - negative_interactions)\n",
    "\n",
    "latent_dim = 350\n",
    "model = BPR(num_users, num_items, latent_dim).to(device)\n",
    "\n",
    "criterion = nn.BCELoss()\n",
    "optimizer = optim.Adam(model.parameters(), lr=0.001)\n"
   ]
  },
  {
   "cell_type": "markdown",
   "metadata": {
    "id": "AqpYyBpoRZkO"
   },
   "source": [
    "### Train the model"
   ]
  },
  {
   "cell_type": "code",
   "execution_count": null,
   "metadata": {
    "id": "T0JQf6eoN09S"
   },
   "outputs": [],
   "source": [
    "X_train = torch.tensor(df_triplets[['user_id', 'positive_m_id', 'negative_m_id']].values, dtype=torch.long)\n",
    "y_train = torch.ones(len(df_triplets))\n"
   ]
  },
  {
   "cell_type": "code",
   "execution_count": null,
   "metadata": {
    "id": "6NT7TG6LRdFt"
   },
   "outputs": [],
   "source": [
    "num_epochs = 1\n",
    "batch_size = 256\n",
    "\n",
    "for epoch in range(num_epochs):\n",
    "    for i in range(0, len(X_train), batch_size):\n",
    "        batch_X = X_train[i:i+batch_size]\n",
    "        batch_y = y_train[i:i+batch_size]\n",
    "\n",
    "        user_input = batch_X[:, 0]\n",
    "        positive_item_input = batch_X[:, 1]\n",
    "        negative_item_input = batch_X[:, 2]\n",
    "\n",
    "        optimizer.zero_grad()\n",
    "        outputs = model(user_input, positive_item_input, negative_item_input)\n",
    "        loss = criterion(outputs, batch_y)\n",
    "        loss.backward()\n",
    "        optimizer.step()"
   ]
  },
  {
   "cell_type": "markdown",
   "metadata": {
    "id": "szLpiUCgRhXD"
   },
   "source": [
    "### Evaluation"
   ]
  },
  {
   "cell_type": "code",
   "execution_count": null,
   "metadata": {
    "id": "HT1MvQveRgVm"
   },
   "outputs": [],
   "source": [
    "def full_auc(model, ground_truth, items):\n",
    "    scores = []\n",
    "\n",
    "    for user_id, true_item_ids in ground_truth:\n",
    "        predictions = bpr_predict(model, user_id, items)\n",
    "        grnd = np.zeros(len(items), dtype=np.int32)\n",
    "\n",
    "        for p in true_item_ids:\n",
    "            index = items.index(p)\n",
    "            grnd[index] = 1\n",
    "\n",
    "        if true_item_ids:\n",
    "            scores.append(roc_auc_score(grnd, predictions))\n",
    "\n",
    "    return sum(scores) / len(scores)"
   ]
  },
  {
   "cell_type": "code",
   "execution_count": null,
   "metadata": {
    "id": "kPxmr70XRjvo"
   },
   "outputs": [],
   "source": [
    "def mean_average_precision_k(model, ground_truth, items, k=100):\n",
    "    scores = []\n",
    "\n",
    "    for user, actual in ground_truth:\n",
    "        predictions = bpr_predict(model, user, items)\n",
    "        predictions = dict(zip(items, predictions))\n",
    "        predictions = sorted(predictions.items(), key=lambda kv: kv[1], reverse=True)[:k]\n",
    "        predictions = list(OrderedDict(predictions).keys())\n",
    "\n",
    "        score = 0.0\n",
    "        num_hits = 0.0\n",
    "\n",
    "        for i, p in enumerate(predictions):\n",
    "            if p in actual:\n",
    "                num_hits += 1.0\n",
    "                score += num_hits / (i + 1.0)\n",
    "\n",
    "        score = score / min(len(actual), k)\n",
    "        scores.append(score)\n",
    "\n",
    "    return np.mean(scores)"
   ]
  },
  {
   "cell_type": "code",
   "execution_count": null,
   "metadata": {
    "id": "Y5UiM2cpRnEk"
   },
   "outputs": [],
   "source": [
    "def bpr_predict(model, user_id, item_ids):\n",
    "    user_embedding = model.user_embedding(torch.tensor([user_id]).to(device))\n",
    "    item_embeddings = model.item_embedding(torch.tensor(item_ids).to(device))\n",
    "\n",
    "    scores = torch.sigmoid(torch.matmul(user_embedding, item_embeddings.T))\n",
    "\n",
    "    return scores.detach().cpu().numpy().flatten()"
   ]
  },
  {
   "cell_type": "markdown",
   "metadata": {
    "id": "K9lsUnkbRqlo"
   },
   "source": [
    "### Train"
   ]
  },
  {
   "cell_type": "code",
   "execution_count": null,
   "metadata": {
    "id": "LiV12vLpRoJ8"
   },
   "outputs": [],
   "source": [
    "print(f'AUC train: {full_auc(model, ground_truth_train.values, unique_businesses)}')\n",
    "print(f'Mean average precision train: {mean_average_precision_k(model, ground_truth_train.values, unique_businesses)}')"
   ]
  },
  {
   "cell_type": "markdown",
   "metadata": {
    "id": "bENKEB5ARrmd"
   },
   "source": [
    "### Test"
   ]
  },
  {
   "cell_type": "code",
   "execution_count": null,
   "metadata": {
    "id": "U0YB5FFjRoRS"
   },
   "outputs": [],
   "source": [
    "print(f'AUC test: {full_auc(model, ground_truth_test.values, unique_businesses)}')\n",
    "print(f'Mean average precision test: {mean_average_precision_k(model, ground_truth_test.values, unique_businesses)}')"
   ]
  }
 ],
 "metadata": {
  "colab": {
   "provenance": []
  },
  "kernelspec": {
   "display_name": "Python 3 (ipykernel)",
   "language": "python",
   "name": "python3"
  },
  "language_info": {
   "codemirror_mode": {
    "name": "ipython",
    "version": 3
   },
   "file_extension": ".py",
   "mimetype": "text/x-python",
   "name": "python",
   "nbconvert_exporter": "python",
   "pygments_lexer": "ipython3",
   "version": "3.12.2"
  }
 },
 "nbformat": 4,
 "nbformat_minor": 4
}
