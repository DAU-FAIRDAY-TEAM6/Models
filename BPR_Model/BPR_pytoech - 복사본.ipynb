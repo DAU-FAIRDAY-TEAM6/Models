{
 "cells": [
  {
   "cell_type": "code",
   "execution_count": 1,
   "metadata": {
    "id": "qD71y_uNM2Xt"
   },
   "outputs": [
    {
     "data": {
      "text/plain": [
       "'2.2.1+cu121'"
      ]
     },
     "execution_count": 1,
     "metadata": {},
     "output_type": "execute_result"
    }
   ],
   "source": [
    "import numpy as np\n",
    "import pandas as pd\n",
    "from os import path\n",
    "from collections import OrderedDict\n",
    "from tqdm import tqdm\n",
    "from typing import Dict\n",
    "\n",
    "import torch\n",
    "import torch.nn as nn\n",
    "import torch.optim as optim\n",
    "\n",
    "from sklearn.metrics import roc_auc_score\n",
    "\n",
    "torch.__version__"
   ]
  },
  {
   "cell_type": "code",
   "execution_count": 2,
   "metadata": {
    "id": "7DexZTcVU00W"
   },
   "outputs": [
    {
     "name": "stdout",
     "output_type": "stream",
     "text": [
      "Device: cuda\n"
     ]
    }
   ],
   "source": [
    "# CUDA 사용 가능 여부 확인\n",
    "device = torch.device(\"cuda\" if torch.cuda.is_available() else \"cpu\")\n",
    "print(\"Device:\", device)"
   ]
  },
  {
   "cell_type": "code",
   "execution_count": 3,
   "metadata": {
    "id": "OV6ulgWbM2gR"
   },
   "outputs": [
    {
     "data": {
      "text/plain": [
       "<torch._C.Generator at 0x2495b6354d0>"
      ]
     },
     "execution_count": 3,
     "metadata": {},
     "output_type": "execute_result"
    }
   ],
   "source": [
    "SEED = 42\n",
    "np.random.seed(SEED)\n",
    "torch.manual_seed(SEED)"
   ]
  },
  {
   "cell_type": "code",
   "execution_count": 4,
   "metadata": {
    "id": "_Zmhma5XM2lX"
   },
   "outputs": [],
   "source": [
    "DIR_DATA = 'data'\n",
    "DIR_MODEL = 'models'"
   ]
  },
  {
   "cell_type": "markdown",
   "metadata": {
    "id": "tg90Z-YBNSIv"
   },
   "source": [
    "### Get data"
   ]
  },
  {
   "cell_type": "code",
   "execution_count": 5,
   "metadata": {
    "id": "BtKvWsfEM2oB"
   },
   "outputs": [
    {
     "data": {
      "text/html": [
       "<div>\n",
       "<style scoped>\n",
       "    .dataframe tbody tr th:only-of-type {\n",
       "        vertical-align: middle;\n",
       "    }\n",
       "\n",
       "    .dataframe tbody tr th {\n",
       "        vertical-align: top;\n",
       "    }\n",
       "\n",
       "    .dataframe thead th {\n",
       "        text-align: right;\n",
       "    }\n",
       "</style>\n",
       "<table border=\"1\" class=\"dataframe\">\n",
       "  <thead>\n",
       "    <tr style=\"text-align: right;\">\n",
       "      <th></th>\n",
       "      <th>user</th>\n",
       "      <th>business</th>\n",
       "      <th>rating</th>\n",
       "      <th>date</th>\n",
       "    </tr>\n",
       "  </thead>\n",
       "  <tbody>\n",
       "    <tr>\n",
       "      <th>0</th>\n",
       "      <td>0</td>\n",
       "      <td>1481</td>\n",
       "      <td>5</td>\n",
       "      <td>1479040537</td>\n",
       "    </tr>\n",
       "    <tr>\n",
       "      <th>1</th>\n",
       "      <td>0</td>\n",
       "      <td>8854</td>\n",
       "      <td>5</td>\n",
       "      <td>1398704639</td>\n",
       "    </tr>\n",
       "    <tr>\n",
       "      <th>2</th>\n",
       "      <td>1</td>\n",
       "      <td>7950</td>\n",
       "      <td>4</td>\n",
       "      <td>1301177737</td>\n",
       "    </tr>\n",
       "    <tr>\n",
       "      <th>3</th>\n",
       "      <td>1</td>\n",
       "      <td>12413</td>\n",
       "      <td>5</td>\n",
       "      <td>1301177343</td>\n",
       "    </tr>\n",
       "    <tr>\n",
       "      <th>4</th>\n",
       "      <td>2</td>\n",
       "      <td>7030</td>\n",
       "      <td>2</td>\n",
       "      <td>1497361148</td>\n",
       "    </tr>\n",
       "    <tr>\n",
       "      <th>5</th>\n",
       "      <td>3</td>\n",
       "      <td>1217</td>\n",
       "      <td>3</td>\n",
       "      <td>1338848137</td>\n",
       "    </tr>\n",
       "    <tr>\n",
       "      <th>6</th>\n",
       "      <td>3</td>\n",
       "      <td>1983</td>\n",
       "      <td>2</td>\n",
       "      <td>1337621193</td>\n",
       "    </tr>\n",
       "    <tr>\n",
       "      <th>7</th>\n",
       "      <td>3</td>\n",
       "      <td>3313</td>\n",
       "      <td>3</td>\n",
       "      <td>1339444620</td>\n",
       "    </tr>\n",
       "    <tr>\n",
       "      <th>8</th>\n",
       "      <td>3</td>\n",
       "      <td>4455</td>\n",
       "      <td>3</td>\n",
       "      <td>1337294136</td>\n",
       "    </tr>\n",
       "    <tr>\n",
       "      <th>9</th>\n",
       "      <td>3</td>\n",
       "      <td>5005</td>\n",
       "      <td>2</td>\n",
       "      <td>1340650648</td>\n",
       "    </tr>\n",
       "  </tbody>\n",
       "</table>\n",
       "</div>"
      ],
      "text/plain": [
       "   user  business  rating        date\n",
       "0     0      1481       5  1479040537\n",
       "1     0      8854       5  1398704639\n",
       "2     1      7950       4  1301177737\n",
       "3     1     12413       5  1301177343\n",
       "4     2      7030       2  1497361148\n",
       "5     3      1217       3  1338848137\n",
       "6     3      1983       2  1337621193\n",
       "7     3      3313       3  1339444620\n",
       "8     3      4455       3  1337294136\n",
       "9     3      5005       2  1340650648"
      ]
     },
     "execution_count": 5,
     "metadata": {},
     "output_type": "execute_result"
    }
   ],
   "source": [
    "# Load data\n",
    "#df_full = pd.read_csv('data_int.csv')\n",
    "df_full = pd.read_csv('test.csv')\n",
    "df_full.head(10)"
   ]
  },
  {
   "cell_type": "markdown",
   "metadata": {
    "id": "DSXFAP6zNZCN"
   },
   "source": [
    "### Build the references\n",
    "\n",
    "I'm planning to use the `Embedding` layer, so I need to link real ids of the users and movies to the order ones."
   ]
  },
  {
   "cell_type": "code",
   "execution_count": 6,
   "metadata": {
    "id": "zvaQ7UYANYmE"
   },
   "outputs": [
    {
     "data": {
      "text/plain": [
       "[14570, 14571, 14572, 14574, 14576, 14580, 14582, 14583, 14584, 14585]"
      ]
     },
     "execution_count": 6,
     "metadata": {},
     "output_type": "execute_result"
    }
   ],
   "source": [
    "sorted(df_full.business.unique())[-10:]"
   ]
  },
  {
   "cell_type": "code",
   "execution_count": 7,
   "metadata": {
    "id": "zVw_jzz_M2qh"
   },
   "outputs": [
    {
     "data": {
      "text/plain": [
       "[0, 1, 2, 3, 4, 5, 6, 7, 8, 9]"
      ]
     },
     "execution_count": 7,
     "metadata": {},
     "output_type": "execute_result"
    }
   ],
   "source": [
    "sorted(df_full.user.unique())[:10]"
   ]
  },
  {
   "cell_type": "code",
   "execution_count": 8,
   "metadata": {
    "id": "VlGkOG__NC4h"
   },
   "outputs": [],
   "source": [
    "unique_users = df_full.user.unique()\n",
    "user_ids = {u: i for i, u in enumerate(unique_users)}\n",
    "\n",
    "unique_businesses = df_full.business.unique()\n",
    "business_ids = {m: i for i, m in enumerate(unique_businesses)}"
   ]
  },
  {
   "cell_type": "code",
   "execution_count": 9,
   "metadata": {
    "id": "UGRt2PX1NC6u"
   },
   "outputs": [
    {
     "data": {
      "text/html": [
       "<div>\n",
       "<style scoped>\n",
       "    .dataframe tbody tr th:only-of-type {\n",
       "        vertical-align: middle;\n",
       "    }\n",
       "\n",
       "    .dataframe tbody tr th {\n",
       "        vertical-align: top;\n",
       "    }\n",
       "\n",
       "    .dataframe thead th {\n",
       "        text-align: right;\n",
       "    }\n",
       "</style>\n",
       "<table border=\"1\" class=\"dataframe\">\n",
       "  <thead>\n",
       "    <tr style=\"text-align: right;\">\n",
       "      <th></th>\n",
       "      <th>user</th>\n",
       "      <th>business</th>\n",
       "      <th>rating</th>\n",
       "      <th>date</th>\n",
       "      <th>user_id</th>\n",
       "      <th>business_id</th>\n",
       "    </tr>\n",
       "  </thead>\n",
       "  <tbody>\n",
       "    <tr>\n",
       "      <th>0</th>\n",
       "      <td>0</td>\n",
       "      <td>1481</td>\n",
       "      <td>5</td>\n",
       "      <td>1479040537</td>\n",
       "      <td>0</td>\n",
       "      <td>0</td>\n",
       "    </tr>\n",
       "    <tr>\n",
       "      <th>1</th>\n",
       "      <td>0</td>\n",
       "      <td>8854</td>\n",
       "      <td>5</td>\n",
       "      <td>1398704639</td>\n",
       "      <td>0</td>\n",
       "      <td>1</td>\n",
       "    </tr>\n",
       "    <tr>\n",
       "      <th>2</th>\n",
       "      <td>1</td>\n",
       "      <td>7950</td>\n",
       "      <td>4</td>\n",
       "      <td>1301177737</td>\n",
       "      <td>1</td>\n",
       "      <td>2</td>\n",
       "    </tr>\n",
       "    <tr>\n",
       "      <th>3</th>\n",
       "      <td>1</td>\n",
       "      <td>12413</td>\n",
       "      <td>5</td>\n",
       "      <td>1301177343</td>\n",
       "      <td>1</td>\n",
       "      <td>3</td>\n",
       "    </tr>\n",
       "    <tr>\n",
       "      <th>4</th>\n",
       "      <td>2</td>\n",
       "      <td>7030</td>\n",
       "      <td>2</td>\n",
       "      <td>1497361148</td>\n",
       "      <td>2</td>\n",
       "      <td>4</td>\n",
       "    </tr>\n",
       "    <tr>\n",
       "      <th>5</th>\n",
       "      <td>3</td>\n",
       "      <td>1217</td>\n",
       "      <td>3</td>\n",
       "      <td>1338848137</td>\n",
       "      <td>3</td>\n",
       "      <td>5</td>\n",
       "    </tr>\n",
       "    <tr>\n",
       "      <th>6</th>\n",
       "      <td>3</td>\n",
       "      <td>1983</td>\n",
       "      <td>2</td>\n",
       "      <td>1337621193</td>\n",
       "      <td>3</td>\n",
       "      <td>6</td>\n",
       "    </tr>\n",
       "    <tr>\n",
       "      <th>7</th>\n",
       "      <td>3</td>\n",
       "      <td>3313</td>\n",
       "      <td>3</td>\n",
       "      <td>1339444620</td>\n",
       "      <td>3</td>\n",
       "      <td>7</td>\n",
       "    </tr>\n",
       "    <tr>\n",
       "      <th>8</th>\n",
       "      <td>3</td>\n",
       "      <td>4455</td>\n",
       "      <td>3</td>\n",
       "      <td>1337294136</td>\n",
       "      <td>3</td>\n",
       "      <td>8</td>\n",
       "    </tr>\n",
       "    <tr>\n",
       "      <th>9</th>\n",
       "      <td>3</td>\n",
       "      <td>5005</td>\n",
       "      <td>2</td>\n",
       "      <td>1340650648</td>\n",
       "      <td>3</td>\n",
       "      <td>9</td>\n",
       "    </tr>\n",
       "  </tbody>\n",
       "</table>\n",
       "</div>"
      ],
      "text/plain": [
       "   user  business  rating        date  user_id  business_id\n",
       "0     0      1481       5  1479040537        0            0\n",
       "1     0      8854       5  1398704639        0            1\n",
       "2     1      7950       4  1301177737        1            2\n",
       "3     1     12413       5  1301177343        1            3\n",
       "4     2      7030       2  1497361148        2            4\n",
       "5     3      1217       3  1338848137        3            5\n",
       "6     3      1983       2  1337621193        3            6\n",
       "7     3      3313       3  1339444620        3            7\n",
       "8     3      4455       3  1337294136        3            8\n",
       "9     3      5005       2  1340650648        3            9"
      ]
     },
     "execution_count": 9,
     "metadata": {},
     "output_type": "execute_result"
    }
   ],
   "source": [
    "df_full['user_id'] = df_full.user.map(user_ids)\n",
    "df_full['business_id'] = df_full.business.map(business_ids)\n",
    "\n",
    "df_full.head(10)"
   ]
  },
  {
   "cell_type": "markdown",
   "metadata": {
    "id": "htW6EsCqNiE2"
   },
   "source": [
    "### Train/test split\n",
    "\n",
    "Here the main idea is to extract some movies for users who have a big amount of positive reviews into the test subtest. I extract 2 movies for each user who have more than 20 positive reviews. This test subset won't be used during training, but these movies should appear in the top recommendations for each user accordingly."
   ]
  },
  {
   "cell_type": "markdown",
   "metadata": {
    "id": "LSrvS64WNlEU"
   },
   "source": [
    "#### Test subset"
   ]
  },
  {
   "cell_type": "code",
   "execution_count": 10,
   "metadata": {
    "id": "HwsAPQfJNkwH"
   },
   "outputs": [
    {
     "data": {
      "text/plain": [
       "(9101, 2)"
      ]
     },
     "execution_count": 10,
     "metadata": {},
     "output_type": "execute_result"
    }
   ],
   "source": [
    "tmp_test = df_full[df_full.rating > 4]\n",
    "tmp_test = tmp_test.groupby('user').business.count().reset_index()\n",
    "tmp_test.shape"
   ]
  },
  {
   "cell_type": "code",
   "execution_count": 11,
   "metadata": {
    "id": "P-7DJNQaNC9I"
   },
   "outputs": [
    {
     "data": {
      "text/plain": [
       "(176, 6)"
      ]
     },
     "execution_count": 11,
     "metadata": {},
     "output_type": "execute_result"
    }
   ],
   "source": [
    "conditions = (df_full.user.isin(tmp_test[tmp_test.business > 20].user)) & (df_full.rating > 4)\n",
    "df_test = df_full[conditions].groupby('user').head(2).reset_index()\n",
    "\n",
    "del df_test['index']\n",
    "df_test.shape"
   ]
  },
  {
   "cell_type": "code",
   "execution_count": 12,
   "metadata": {
    "id": "2AjmPNBMNC99"
   },
   "outputs": [
    {
     "data": {
      "text/html": [
       "<div>\n",
       "<style scoped>\n",
       "    .dataframe tbody tr th:only-of-type {\n",
       "        vertical-align: middle;\n",
       "    }\n",
       "\n",
       "    .dataframe tbody tr th {\n",
       "        vertical-align: top;\n",
       "    }\n",
       "\n",
       "    .dataframe thead th {\n",
       "        text-align: right;\n",
       "    }\n",
       "</style>\n",
       "<table border=\"1\" class=\"dataframe\">\n",
       "  <thead>\n",
       "    <tr style=\"text-align: right;\">\n",
       "      <th></th>\n",
       "      <th>user_id</th>\n",
       "      <th>business_id</th>\n",
       "    </tr>\n",
       "  </thead>\n",
       "  <tbody>\n",
       "    <tr>\n",
       "      <th>0</th>\n",
       "      <td>253</td>\n",
       "      <td>[498, 93]</td>\n",
       "    </tr>\n",
       "    <tr>\n",
       "      <th>1</th>\n",
       "      <td>1125</td>\n",
       "      <td>[1986, 1989]</td>\n",
       "    </tr>\n",
       "    <tr>\n",
       "      <th>2</th>\n",
       "      <td>1202</td>\n",
       "      <td>[2296, 2233]</td>\n",
       "    </tr>\n",
       "    <tr>\n",
       "      <th>3</th>\n",
       "      <td>1511</td>\n",
       "      <td>[483, 487]</td>\n",
       "    </tr>\n",
       "    <tr>\n",
       "      <th>4</th>\n",
       "      <td>1633</td>\n",
       "      <td>[1506, 1569]</td>\n",
       "    </tr>\n",
       "    <tr>\n",
       "      <th>5</th>\n",
       "      <td>1692</td>\n",
       "      <td>[964, 995]</td>\n",
       "    </tr>\n",
       "    <tr>\n",
       "      <th>6</th>\n",
       "      <td>1794</td>\n",
       "      <td>[500, 2883]</td>\n",
       "    </tr>\n",
       "    <tr>\n",
       "      <th>7</th>\n",
       "      <td>1957</td>\n",
       "      <td>[3186, 3187]</td>\n",
       "    </tr>\n",
       "    <tr>\n",
       "      <th>8</th>\n",
       "      <td>2170</td>\n",
       "      <td>[360, 292]</td>\n",
       "    </tr>\n",
       "    <tr>\n",
       "      <th>9</th>\n",
       "      <td>2185</td>\n",
       "      <td>[1453, 769]</td>\n",
       "    </tr>\n",
       "  </tbody>\n",
       "</table>\n",
       "</div>"
      ],
      "text/plain": [
       "   user_id   business_id\n",
       "0      253     [498, 93]\n",
       "1     1125  [1986, 1989]\n",
       "2     1202  [2296, 2233]\n",
       "3     1511    [483, 487]\n",
       "4     1633  [1506, 1569]\n",
       "5     1692    [964, 995]\n",
       "6     1794   [500, 2883]\n",
       "7     1957  [3186, 3187]\n",
       "8     2170    [360, 292]\n",
       "9     2185   [1453, 769]"
      ]
     },
     "execution_count": 12,
     "metadata": {},
     "output_type": "execute_result"
    }
   ],
   "source": [
    "ground_truth_test = df_test.groupby('user_id').business_id.agg(list).reset_index()\n",
    "ground_truth_test.head(10)"
   ]
  },
  {
   "cell_type": "markdown",
   "metadata": {
    "id": "QYdTxMiENvDT"
   },
   "source": [
    "#### Training subset"
   ]
  },
  {
   "cell_type": "code",
   "execution_count": 13,
   "metadata": {
    "id": "gM8KWr25NC_m"
   },
   "outputs": [
    {
     "data": {
      "text/plain": [
       "(49822, 6)"
      ]
     },
     "execution_count": 13,
     "metadata": {},
     "output_type": "execute_result"
    }
   ],
   "source": [
    "df_train = pd.concat([df_full, df_test]).drop_duplicates(keep=False)\n",
    "df_train.shape"
   ]
  },
  {
   "cell_type": "code",
   "execution_count": 14,
   "metadata": {
    "id": "ll81-ej_NDAr"
   },
   "outputs": [
    {
     "data": {
      "text/html": [
       "<div>\n",
       "<style scoped>\n",
       "    .dataframe tbody tr th:only-of-type {\n",
       "        vertical-align: middle;\n",
       "    }\n",
       "\n",
       "    .dataframe tbody tr th {\n",
       "        vertical-align: top;\n",
       "    }\n",
       "\n",
       "    .dataframe thead th {\n",
       "        text-align: right;\n",
       "    }\n",
       "</style>\n",
       "<table border=\"1\" class=\"dataframe\">\n",
       "  <thead>\n",
       "    <tr style=\"text-align: right;\">\n",
       "      <th></th>\n",
       "      <th>user_id</th>\n",
       "      <th>business_id</th>\n",
       "    </tr>\n",
       "  </thead>\n",
       "  <tbody>\n",
       "    <tr>\n",
       "      <th>0</th>\n",
       "      <td>0</td>\n",
       "      <td>[0, 1]</td>\n",
       "    </tr>\n",
       "    <tr>\n",
       "      <th>1</th>\n",
       "      <td>1</td>\n",
       "      <td>[2, 3]</td>\n",
       "    </tr>\n",
       "    <tr>\n",
       "      <th>2</th>\n",
       "      <td>3</td>\n",
       "      <td>[10, 12]</td>\n",
       "    </tr>\n",
       "    <tr>\n",
       "      <th>3</th>\n",
       "      <td>4</td>\n",
       "      <td>[13, 14, 15, 16, 17, 18, 19, 20, 21, 22, 23, 2...</td>\n",
       "    </tr>\n",
       "    <tr>\n",
       "      <th>4</th>\n",
       "      <td>5</td>\n",
       "      <td>[30, 30, 31, 33, 34, 35, 36, 38, 39, 40, 42, 4...</td>\n",
       "    </tr>\n",
       "    <tr>\n",
       "      <th>5</th>\n",
       "      <td>6</td>\n",
       "      <td>[47, 48]</td>\n",
       "    </tr>\n",
       "    <tr>\n",
       "      <th>6</th>\n",
       "      <td>7</td>\n",
       "      <td>[49, 50]</td>\n",
       "    </tr>\n",
       "    <tr>\n",
       "      <th>7</th>\n",
       "      <td>8</td>\n",
       "      <td>[51, 52, 53, 54, 55]</td>\n",
       "    </tr>\n",
       "    <tr>\n",
       "      <th>8</th>\n",
       "      <td>9</td>\n",
       "      <td>[56]</td>\n",
       "    </tr>\n",
       "    <tr>\n",
       "      <th>9</th>\n",
       "      <td>10</td>\n",
       "      <td>[57, 58]</td>\n",
       "    </tr>\n",
       "  </tbody>\n",
       "</table>\n",
       "</div>"
      ],
      "text/plain": [
       "   user_id                                        business_id\n",
       "0        0                                             [0, 1]\n",
       "1        1                                             [2, 3]\n",
       "2        3                                           [10, 12]\n",
       "3        4  [13, 14, 15, 16, 17, 18, 19, 20, 21, 22, 23, 2...\n",
       "4        5  [30, 30, 31, 33, 34, 35, 36, 38, 39, 40, 42, 4...\n",
       "5        6                                           [47, 48]\n",
       "6        7                                           [49, 50]\n",
       "7        8                               [51, 52, 53, 54, 55]\n",
       "8        9                                               [56]\n",
       "9       10                                           [57, 58]"
      ]
     },
     "execution_count": 14,
     "metadata": {},
     "output_type": "execute_result"
    }
   ],
   "source": [
    "ground_truth_train = df_train[df_train.rating > 3].groupby('user_id').business_id.agg(list).reset_index()\n",
    "ground_truth_train.head(10)"
   ]
  },
  {
   "cell_type": "markdown",
   "metadata": {
    "id": "2D7gtc5BN8yE"
   },
   "source": [
    "### Building triplets\n",
    "\n",
    "Bayers Personalized Ranking requires for the training a triplet of the user, positive item and negative item. For each user, I create a pair of each positive ranked movie (the rank is higher than 3) with all negative movies (the rank is equal  3 and lower than)."
   ]
  },
  {
   "cell_type": "code",
   "execution_count": 15,
   "metadata": {
    "id": "l_hHMCu7N0cW"
   },
   "outputs": [
    {
     "data": {
      "text/html": [
       "<div>\n",
       "<style scoped>\n",
       "    .dataframe tbody tr th:only-of-type {\n",
       "        vertical-align: middle;\n",
       "    }\n",
       "\n",
       "    .dataframe tbody tr th {\n",
       "        vertical-align: top;\n",
       "    }\n",
       "\n",
       "    .dataframe thead th {\n",
       "        text-align: right;\n",
       "    }\n",
       "</style>\n",
       "<table border=\"1\" class=\"dataframe\">\n",
       "  <thead>\n",
       "    <tr style=\"text-align: right;\">\n",
       "      <th></th>\n",
       "      <th>user_id</th>\n",
       "      <th>positive_m_id</th>\n",
       "      <th>negative_m_id</th>\n",
       "    </tr>\n",
       "  </thead>\n",
       "  <tbody>\n",
       "  </tbody>\n",
       "</table>\n",
       "</div>"
      ],
      "text/plain": [
       "Empty DataFrame\n",
       "Columns: [user_id, positive_m_id, negative_m_id]\n",
       "Index: []"
      ]
     },
     "execution_count": 15,
     "metadata": {},
     "output_type": "execute_result"
    }
   ],
   "source": [
    "df_triplets = pd.DataFrame(columns=['user_id', 'positive_m_id', 'negative_m_id'])\n",
    "\n",
    "df_triplets.head(10)"
   ]
  },
  {
   "cell_type": "code",
   "execution_count": 16,
   "metadata": {
    "id": "1KAsyB8qN02K"
   },
   "outputs": [
    {
     "name": "stderr",
     "output_type": "stream",
     "text": [
      "100%|██████████████████████████████████████████████████████████████████████████| 14469/14469 [00:05<00:00, 2822.22it/s]"
     ]
    },
    {
     "name": "stdout",
     "output_type": "stream",
     "text": [
      "CPU times: total: 3.25 s\n",
      "Wall time: 5.13 s\n"
     ]
    },
    {
     "name": "stderr",
     "output_type": "stream",
     "text": [
      "\n"
     ]
    }
   ],
   "source": [
    "%%time\n",
    "\n",
    "data = []\n",
    "users_without_data = []\n",
    "\n",
    "for user_id in tqdm(df_train.user_id.unique()):\n",
    "    positive_businesss = df_train[(df_train.user_id == user_id) & (df_train.rating > 3)].business_id.values\n",
    "    negative_businesss = df_train[(df_train.user_id == user_id) & (df_train.rating <= 3)].business_id.values\n",
    "\n",
    "    if negative_businesss.shape[0] == 0 or positive_businesss.shape[0] == 0:\n",
    "        users_without_data.append(user_id)\n",
    "        continue\n",
    "\n",
    "\n",
    "    for positive_business in positive_businesss:\n",
    "        for negative_business in negative_businesss:\n",
    "            data.append({'user_id': user_id, 'positive_m_id': positive_business, 'negative_m_id': negative_business})\n",
    "\n"
   ]
  },
  {
   "cell_type": "code",
   "execution_count": 17,
   "metadata": {},
   "outputs": [],
   "source": [
    "df_triplets = pd.DataFrame(data)"
   ]
  },
  {
   "cell_type": "code",
   "execution_count": 18,
   "metadata": {
    "id": "CCnEZCLzN03n"
   },
   "outputs": [
    {
     "data": {
      "text/html": [
       "<div>\n",
       "<style scoped>\n",
       "    .dataframe tbody tr th:only-of-type {\n",
       "        vertical-align: middle;\n",
       "    }\n",
       "\n",
       "    .dataframe tbody tr th {\n",
       "        vertical-align: top;\n",
       "    }\n",
       "\n",
       "    .dataframe thead th {\n",
       "        text-align: right;\n",
       "    }\n",
       "</style>\n",
       "<table border=\"1\" class=\"dataframe\">\n",
       "  <thead>\n",
       "    <tr style=\"text-align: right;\">\n",
       "      <th></th>\n",
       "      <th>user_id</th>\n",
       "      <th>positive_m_id</th>\n",
       "      <th>negative_m_id</th>\n",
       "    </tr>\n",
       "  </thead>\n",
       "  <tbody>\n",
       "    <tr>\n",
       "      <th>0</th>\n",
       "      <td>3</td>\n",
       "      <td>10</td>\n",
       "      <td>5</td>\n",
       "    </tr>\n",
       "    <tr>\n",
       "      <th>1</th>\n",
       "      <td>3</td>\n",
       "      <td>10</td>\n",
       "      <td>6</td>\n",
       "    </tr>\n",
       "    <tr>\n",
       "      <th>2</th>\n",
       "      <td>3</td>\n",
       "      <td>10</td>\n",
       "      <td>7</td>\n",
       "    </tr>\n",
       "    <tr>\n",
       "      <th>3</th>\n",
       "      <td>3</td>\n",
       "      <td>10</td>\n",
       "      <td>8</td>\n",
       "    </tr>\n",
       "    <tr>\n",
       "      <th>4</th>\n",
       "      <td>3</td>\n",
       "      <td>10</td>\n",
       "      <td>9</td>\n",
       "    </tr>\n",
       "    <tr>\n",
       "      <th>5</th>\n",
       "      <td>3</td>\n",
       "      <td>10</td>\n",
       "      <td>11</td>\n",
       "    </tr>\n",
       "    <tr>\n",
       "      <th>6</th>\n",
       "      <td>3</td>\n",
       "      <td>12</td>\n",
       "      <td>5</td>\n",
       "    </tr>\n",
       "    <tr>\n",
       "      <th>7</th>\n",
       "      <td>3</td>\n",
       "      <td>12</td>\n",
       "      <td>6</td>\n",
       "    </tr>\n",
       "    <tr>\n",
       "      <th>8</th>\n",
       "      <td>3</td>\n",
       "      <td>12</td>\n",
       "      <td>7</td>\n",
       "    </tr>\n",
       "    <tr>\n",
       "      <th>9</th>\n",
       "      <td>3</td>\n",
       "      <td>12</td>\n",
       "      <td>8</td>\n",
       "    </tr>\n",
       "  </tbody>\n",
       "</table>\n",
       "</div>"
      ],
      "text/plain": [
       "   user_id  positive_m_id  negative_m_id\n",
       "0        3             10              5\n",
       "1        3             10              6\n",
       "2        3             10              7\n",
       "3        3             10              8\n",
       "4        3             10              9\n",
       "5        3             10             11\n",
       "6        3             12              5\n",
       "7        3             12              6\n",
       "8        3             12              7\n",
       "9        3             12              8"
      ]
     },
     "execution_count": 18,
     "metadata": {},
     "output_type": "execute_result"
    }
   ],
   "source": [
    "df_triplets.shape, df_train.shape\n",
    "df_triplets.head(10)"
   ]
  },
  {
   "cell_type": "markdown",
   "metadata": {
    "id": "VO1iOOkmOXxO"
   },
   "source": [
    "### BPR NN"
   ]
  },
  {
   "cell_type": "code",
   "execution_count": 19,
   "metadata": {
    "id": "RQwtvneaN05R"
   },
   "outputs": [
    {
     "data": {
      "text/plain": [
       "(14470, 9396)"
      ]
     },
     "execution_count": 19,
     "metadata": {},
     "output_type": "execute_result"
    }
   ],
   "source": [
    "num_users = len(unique_users)\n",
    "num_items = len(unique_businesses)\n",
    "\n",
    "num_users, num_items"
   ]
  },
  {
   "cell_type": "code",
   "execution_count": 20,
   "metadata": {},
   "outputs": [],
   "source": [
    "unique_business_ids = list(df_full.business_id.unique())"
   ]
  },
  {
   "cell_type": "code",
   "execution_count": 21,
   "metadata": {},
   "outputs": [
    {
     "name": "stdout",
     "output_type": "stream",
     "text": [
      "item_ids 데이터 유형: <class 'numpy.ndarray'>\n",
      "item_ids 최소값: 1\n",
      "item_ids 최대값: 14585\n",
      "모델이 처리할 수 있는 아이템 ID 최소값: 0\n",
      "모델이 처리할 수 있는 아이템 ID 최대값: 9395\n",
      "경고: 데이터 값 범위가 모델이 처리할 수 있는 범위를 벗어납니다.\n"
     ]
    }
   ],
   "source": [
    "# item_ids의 데이터 유형을 확인합니다.\n",
    "item_ids_type = type(unique_businesses)\n",
    "print(\"item_ids 데이터 유형:\", item_ids_type)\n",
    "\n",
    "# item_ids의 값 범위를 확인합니다.\n",
    "min_item_id = np.min(unique_businesses)\n",
    "max_item_id = np.max(unique_businesses)\n",
    "print(\"item_ids 최소값:\", min_item_id)\n",
    "print(\"item_ids 최대값:\", max_item_id)\n",
    "\n",
    "# 모델이 처리할 수 있는 범위 내의 아이템 ID 범위를 확인합니다.\n",
    "model_min_item_id = 0  # 모델이 처리할 수 있는 아이템 ID 최소값\n",
    "model_max_item_id = num_items - 1  # 모델이 처리할 수 있는 아이템 ID 최대값\n",
    "print(\"모델이 처리할 수 있는 아이템 ID 최소값:\", model_min_item_id)\n",
    "print(\"모델이 처리할 수 있는 아이템 ID 최대값:\", model_max_item_id)\n",
    "\n",
    "# 데이터 값 범위가 모델이 처리할 수 있는 범위 내에 있는지 확인합니다.\n",
    "if min_item_id >= model_min_item_id and max_item_id <= model_max_item_id:\n",
    "    print(\"데이터 값 범위가 모델이 처리할 수 있는 범위 내에 있습니다.\")\n",
    "else:\n",
    "    print(\"경고: 데이터 값 범위가 모델이 처리할 수 있는 범위를 벗어납니다.\")\n"
   ]
  },
  {
   "cell_type": "markdown",
   "metadata": {
    "id": "sD26CLdhOZTq"
   },
   "source": [
    "### Build a model"
   ]
  },
  {
   "cell_type": "code",
   "execution_count": 22,
   "metadata": {},
   "outputs": [],
   "source": [
    "def bpr_predict(model, user_id, item_ids, user_layer='user_embedding', item_layer='item_embedding'):\n",
    "    \"\"\"\n",
    "    Predict by multiplication user vector by item matrix\n",
    "\n",
    "    :return: list of the scores\n",
    "    \"\"\"\n",
    "    user_vector = model.state_dict()[user_layer].cpu().numpy()[user_id]\n",
    "    item_matrix = model.state_dict()[item_layer].cpu().numpy()[item_ids]\n",
    "\n",
    "    scores = np.dot(user_vector, item_matrix.T)\n",
    "\n",
    "    return scores"
   ]
  },
  {
   "cell_type": "code",
   "execution_count": 23,
   "metadata": {
    "id": "8a9dT8VUN077"
   },
   "outputs": [],
   "source": [
    "class IdentityLoss(nn.Module):\n",
    "    def __init__(self):\n",
    "        super(IdentityLoss, self).__init__()\n",
    "\n",
    "    def forward(self, y_pred):\n",
    "        return torch.mean(y_pred)\n",
    "\n",
    "class BPRTripletLoss(nn.Module):\n",
    "    def __init__(self):\n",
    "        super(BPRTripletLoss, self).__init__()\n",
    "\n",
    "    def forward(self, positive_item_latent, negative_item_latent, user_latent):\n",
    "        positive_interactions = torch.sum(user_latent * positive_item_latent, dim=-1, keepdim=True)\n",
    "        negative_interactions = torch.sum(user_latent * negative_item_latent, dim=-1, keepdim=True)\n",
    "\n",
    "        return torch.sub(1.0, torch.sigmoid(torch.sub(positive_interactions, negative_interactions)))\n"
   ]
  },
  {
   "cell_type": "code",
   "execution_count": 24,
   "metadata": {},
   "outputs": [],
   "source": [
    "class BPRModel(nn.Module):\n",
    "    def __init__(self, num_users, num_items, latent_dim):\n",
    "        super(BPRModel, self).__init__()\n",
    "\n",
    "        self.user_embedding = nn.Embedding(num_users, latent_dim)\n",
    "        self.item_embedding = nn.Embedding(num_items, latent_dim)\n",
    "\n",
    "    def forward(self, positive_item_input, negative_item_input, user_input):\n",
    "        positive_item_embedding = self.item_embedding(positive_item_input).view(positive_item_input.shape[0], -1)\n",
    "        negative_item_embedding = self.item_embedding(negative_item_input).view(negative_item_input.shape[0], -1)\n",
    "        user_embedding = self.user_embedding(user_input).view(user_input.shape[0], -1)\n",
    "\n",
    "        return positive_item_embedding, negative_item_embedding, user_embedding\n"
   ]
  },
  {
   "cell_type": "code",
   "execution_count": 25,
   "metadata": {},
   "outputs": [
    {
     "name": "stdout",
     "output_type": "stream",
     "text": [
      "Total number of parameters: 8353100\n"
     ]
    }
   ],
   "source": [
    "latent_dim = 350\n",
    "num_epochs = 1\n",
    "lr = 0.001\n",
    "\n",
    "model = BPRModel(num_users, num_items, latent_dim)\n",
    "loss_fn = IdentityLoss()\n",
    "triplet_loss_fn = BPRTripletLoss()\n",
    "optimizer = optim.Adam(model.parameters(), lr=lr)\n",
    "\n",
    "print('Total number of parameters:', sum(p.numel() for p in model.parameters() if p.requires_grad))"
   ]
  },
  {
   "cell_type": "code",
   "execution_count": 26,
   "metadata": {},
   "outputs": [],
   "source": [
    "user_input_tensor = torch.tensor(df_triplets.user_id.values, dtype=torch.long)\n",
    "positive_item_input_tensor = torch.tensor(df_triplets.positive_m_id.values, dtype=torch.long)\n",
    "negative_item_input_tensor = torch.tensor(df_triplets.negative_m_id.values, dtype=torch.long)"
   ]
  },
  {
   "cell_type": "code",
   "execution_count": 27,
   "metadata": {},
   "outputs": [
    {
     "name": "stdout",
     "output_type": "stream",
     "text": [
      "Epoch [1/1], Loss: 0.5041916966438293\n"
     ]
    }
   ],
   "source": [
    "for epoch in range(num_epochs):\n",
    "    optimizer.zero_grad()\n",
    "    positive_item_embedding, negative_item_embedding, user_embedding = model(positive_item_input_tensor, negative_item_input_tensor, user_input_tensor)\n",
    "    loss = triplet_loss_fn(positive_item_embedding, negative_item_embedding, user_embedding)\n",
    "    loss = loss_fn(loss)\n",
    "    loss.backward()\n",
    "    optimizer.step()\n",
    "    \n",
    "    print(f'Epoch [{epoch+1}/{num_epochs}], Loss: {loss.item()}')\n"
   ]
  },
  {
   "cell_type": "code",
   "execution_count": null,
   "metadata": {
    "id": "T0JQf6eoN09S"
   },
   "outputs": [],
   "source": []
  },
  {
   "cell_type": "markdown",
   "metadata": {
    "id": "szLpiUCgRhXD"
   },
   "source": [
    "### Evaluation"
   ]
  },
  {
   "cell_type": "code",
   "execution_count": 28,
   "metadata": {
    "id": "kPxmr70XRjvo"
   },
   "outputs": [],
   "source": [
    "def full_auc(model: BPRModel, ground_truth: Dict[int, list], items: list) -> float:\n",
    "    \"\"\"\n",
    "    Measure AUC for model and ground truth for all items\n",
    "\n",
    "    :param model:\n",
    "    :param ground_truth: dictionary of the users and the high ranked movies for the specific user\n",
    "    :param items: a list of the all available movies\n",
    "    :return: AUC\n",
    "    \"\"\"\n",
    "\n",
    "    number_of_items = len(items)\n",
    "    scores = []\n",
    "\n",
    "    for user_id, true_item_ids in ground_truth:\n",
    "        predictions = bpr_predict(model, user_id, items)\n",
    "        grnd = np.zeros(number_of_items, dtype=np.int32)\n",
    "\n",
    "        for p in true_item_ids:\n",
    "            index = items.index(p)\n",
    "            grnd[index] = 1\n",
    "            \n",
    "\n",
    "        if true_item_ids:\n",
    "            scores.append(roc_auc_score(grnd, predictions))\n",
    "\n",
    "        print(grnd);\n",
    "\n",
    "    return sum(scores) / len(scores)"
   ]
  },
  {
   "cell_type": "code",
   "execution_count": 29,
   "metadata": {},
   "outputs": [],
   "source": [
    "def mean_average_precision_k(model: BPRModel,\n",
    "                           ground_truth: Dict[int, list],\n",
    "                           items: list,\n",
    "                           k=100) -> float:\n",
    "    \"\"\"\n",
    "    Calculate mean eavarage precission per user\n",
    "\n",
    "    :param model:\n",
    "    :param ground_truth: dictionary of the users and the high ranked movies for the specific user\n",
    "    :param items: a list of the all available movies\n",
    "    :param k: top N recommendations per user\n",
    "    :return: mean eavarage precission\n",
    "    \"\"\"\n",
    "    scores = []\n",
    "\n",
    "    for user, actual in ground_truth:\n",
    "        predictions = bpr_predict(model, user, items)\n",
    "        predictions = dict(zip(items, predictions))\n",
    "        predictions = sorted(predictions.items(), key=lambda kv: kv[1], reverse=True)[:k]\n",
    "        predictions = list(OrderedDict(predictions).keys())\n",
    "\n",
    "        score = 0.0\n",
    "        num_hits = 0.0\n",
    "\n",
    "        for i, p in enumerate(predictions):\n",
    "            if p in actual:\n",
    "                num_hits += 1.0\n",
    "                score += num_hits / (i + 1.0)\n",
    "\n",
    "        score = score / min(len(actual), k)\n",
    "        scores.append(score)\n",
    "\n",
    "    return np.mean(scores)"
   ]
  },
  {
   "cell_type": "markdown",
   "metadata": {
    "id": "K9lsUnkbRqlo"
   },
   "source": [
    "### Train"
   ]
  },
  {
   "cell_type": "code",
   "execution_count": 30,
   "metadata": {
    "id": "LiV12vLpRoJ8"
   },
   "outputs": [
    {
     "ename": "KeyError",
     "evalue": "'user_embedding'",
     "output_type": "error",
     "traceback": [
      "\u001b[1;31m---------------------------------------------------------------------------\u001b[0m",
      "\u001b[1;31mKeyError\u001b[0m                                  Traceback (most recent call last)",
      "Cell \u001b[1;32mIn[30], line 1\u001b[0m\n\u001b[1;32m----> 1\u001b[0m \u001b[38;5;28mprint\u001b[39m(\u001b[38;5;124mf\u001b[39m\u001b[38;5;124m'\u001b[39m\u001b[38;5;124mAUC train: \u001b[39m\u001b[38;5;132;01m{\u001b[39;00m\u001b[43mfull_auc\u001b[49m\u001b[43m(\u001b[49m\u001b[43mmodel\u001b[49m\u001b[43m,\u001b[49m\u001b[38;5;250;43m \u001b[39;49m\u001b[43mground_truth_train\u001b[49m\u001b[38;5;241;43m.\u001b[39;49m\u001b[43mvalues\u001b[49m\u001b[43m,\u001b[49m\u001b[38;5;250;43m \u001b[39;49m\u001b[43munique_business_ids\u001b[49m\u001b[43m)\u001b[49m\u001b[38;5;132;01m}\u001b[39;00m\u001b[38;5;124m'\u001b[39m)\n\u001b[0;32m      2\u001b[0m \u001b[38;5;28mprint\u001b[39m(\u001b[38;5;124mf\u001b[39m\u001b[38;5;124m'\u001b[39m\u001b[38;5;124mMean average precision train: \u001b[39m\u001b[38;5;132;01m{\u001b[39;00mmean_average_precision_k(model,\u001b[38;5;250m \u001b[39mground_truth_train\u001b[38;5;241m.\u001b[39mvalues,\u001b[38;5;250m \u001b[39munique_business_ids)\u001b[38;5;132;01m}\u001b[39;00m\u001b[38;5;124m'\u001b[39m)\n",
      "Cell \u001b[1;32mIn[28], line 15\u001b[0m, in \u001b[0;36mfull_auc\u001b[1;34m(model, ground_truth, items)\u001b[0m\n\u001b[0;32m     12\u001b[0m scores \u001b[38;5;241m=\u001b[39m []\n\u001b[0;32m     14\u001b[0m \u001b[38;5;28;01mfor\u001b[39;00m user_id, true_item_ids \u001b[38;5;129;01min\u001b[39;00m ground_truth:\n\u001b[1;32m---> 15\u001b[0m     predictions \u001b[38;5;241m=\u001b[39m \u001b[43mbpr_predict\u001b[49m\u001b[43m(\u001b[49m\u001b[43mmodel\u001b[49m\u001b[43m,\u001b[49m\u001b[43m \u001b[49m\u001b[43muser_id\u001b[49m\u001b[43m,\u001b[49m\u001b[43m \u001b[49m\u001b[43mitems\u001b[49m\u001b[43m)\u001b[49m\n\u001b[0;32m     16\u001b[0m     grnd \u001b[38;5;241m=\u001b[39m np\u001b[38;5;241m.\u001b[39mzeros(number_of_items, dtype\u001b[38;5;241m=\u001b[39mnp\u001b[38;5;241m.\u001b[39mint32)\n\u001b[0;32m     18\u001b[0m     \u001b[38;5;28;01mfor\u001b[39;00m p \u001b[38;5;129;01min\u001b[39;00m true_item_ids:\n",
      "Cell \u001b[1;32mIn[22], line 7\u001b[0m, in \u001b[0;36mbpr_predict\u001b[1;34m(model, user_id, item_ids, user_layer, item_layer)\u001b[0m\n\u001b[0;32m      1\u001b[0m \u001b[38;5;28;01mdef\u001b[39;00m \u001b[38;5;21mbpr_predict\u001b[39m(model, user_id, item_ids, user_layer\u001b[38;5;241m=\u001b[39m\u001b[38;5;124m'\u001b[39m\u001b[38;5;124muser_embedding\u001b[39m\u001b[38;5;124m'\u001b[39m, item_layer\u001b[38;5;241m=\u001b[39m\u001b[38;5;124m'\u001b[39m\u001b[38;5;124mitem_embedding\u001b[39m\u001b[38;5;124m'\u001b[39m):\n\u001b[0;32m      2\u001b[0m \u001b[38;5;250m    \u001b[39m\u001b[38;5;124;03m\"\"\"\u001b[39;00m\n\u001b[0;32m      3\u001b[0m \u001b[38;5;124;03m    Predict by multiplication user vector by item matrix\u001b[39;00m\n\u001b[0;32m      4\u001b[0m \n\u001b[0;32m      5\u001b[0m \u001b[38;5;124;03m    :return: list of the scores\u001b[39;00m\n\u001b[0;32m      6\u001b[0m \u001b[38;5;124;03m    \"\"\"\u001b[39;00m\n\u001b[1;32m----> 7\u001b[0m     user_vector \u001b[38;5;241m=\u001b[39m \u001b[43mmodel\u001b[49m\u001b[38;5;241;43m.\u001b[39;49m\u001b[43mstate_dict\u001b[49m\u001b[43m(\u001b[49m\u001b[43m)\u001b[49m\u001b[43m[\u001b[49m\u001b[43muser_layer\u001b[49m\u001b[43m]\u001b[49m\u001b[38;5;241m.\u001b[39mcpu()\u001b[38;5;241m.\u001b[39mnumpy()[user_id]\n\u001b[0;32m      8\u001b[0m     item_matrix \u001b[38;5;241m=\u001b[39m model\u001b[38;5;241m.\u001b[39mstate_dict()[item_layer]\u001b[38;5;241m.\u001b[39mcpu()\u001b[38;5;241m.\u001b[39mnumpy()[item_ids]\n\u001b[0;32m     10\u001b[0m     scores \u001b[38;5;241m=\u001b[39m np\u001b[38;5;241m.\u001b[39mdot(user_vector, item_matrix\u001b[38;5;241m.\u001b[39mT)\n",
      "\u001b[1;31mKeyError\u001b[0m: 'user_embedding'"
     ]
    }
   ],
   "source": [
    "print(f'AUC train: {full_auc(model, ground_truth_train.values, unique_business_ids)}')\n",
    "print(f'Mean average precision train: {mean_average_precision_k(model, ground_truth_train.values, unique_business_ids)}')"
   ]
  },
  {
   "cell_type": "markdown",
   "metadata": {
    "id": "bENKEB5ARrmd"
   },
   "source": [
    "### Test"
   ]
  },
  {
   "cell_type": "code",
   "execution_count": null,
   "metadata": {
    "id": "U0YB5FFjRoRS"
   },
   "outputs": [],
   "source": [
    "print(f'AUC test: {full_auc(model, ground_truth_test.values, unique_businesses_ids)}')\n",
    "print(f'Mean average precision test: {mean_average_precision_k(model, ground_truth_test.values, unique_businesses_ids)}')"
   ]
  }
 ],
 "metadata": {
  "colab": {
   "provenance": []
  },
  "kernelspec": {
   "display_name": "Python 3 (ipykernel)",
   "language": "python",
   "name": "python3"
  },
  "language_info": {
   "codemirror_mode": {
    "name": "ipython",
    "version": 3
   },
   "file_extension": ".py",
   "mimetype": "text/x-python",
   "name": "python",
   "nbconvert_exporter": "python",
   "pygments_lexer": "ipython3",
   "version": "3.12.2"
  }
 },
 "nbformat": 4,
 "nbformat_minor": 4
}
